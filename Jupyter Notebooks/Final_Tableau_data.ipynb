{
 "cells": [
  {
   "cell_type": "code",
   "execution_count": 2,
   "id": "promotional-credit",
   "metadata": {},
   "outputs": [],
   "source": [
    "# Remove warning errors\n",
    "import warnings\n",
    "warnings.filterwarnings('ignore')"
   ]
  },
  {
   "cell_type": "code",
   "execution_count": 3,
   "id": "beautiful-audit",
   "metadata": {},
   "outputs": [],
   "source": [
    "# Remove warning errors\n",
    "import warnings\n",
    "warnings.filterwarnings('ignore')"
   ]
  },
  {
   "cell_type": "code",
   "execution_count": 4,
   "id": "completed-genetics",
   "metadata": {},
   "outputs": [],
   "source": [
    "# Pandas functions\n",
    "import pandas as pd\n",
    "# Numpy functions\n",
    "import numpy as np"
   ]
  },
  {
   "cell_type": "code",
   "execution_count": 5,
   "id": "unavailable-glory",
   "metadata": {},
   "outputs": [],
   "source": [
    "#Display all columns\n",
    "pd.set_option('display.max_columns', None)\n",
    "pd.set_option('display.max_colwidth',None)"
   ]
  },
  {
   "cell_type": "code",
   "execution_count": 6,
   "id": "brilliant-message",
   "metadata": {},
   "outputs": [],
   "source": [
    "#Importing the data conncatenated. Accidents from 2010 to 2018\n",
    "data_map = pd.read_csv ('data_tableau_for_map_notebook.csv')"
   ]
  },
  {
   "cell_type": "code",
   "execution_count": 7,
   "id": "occasional-hartford",
   "metadata": {},
   "outputs": [
    {
     "data": {
      "text/html": [
       "<div>\n",
       "<style scoped>\n",
       "    .dataframe tbody tr th:only-of-type {\n",
       "        vertical-align: middle;\n",
       "    }\n",
       "\n",
       "    .dataframe tbody tr th {\n",
       "        vertical-align: top;\n",
       "    }\n",
       "\n",
       "    .dataframe thead th {\n",
       "        text-align: right;\n",
       "    }\n",
       "</style>\n",
       "<table border=\"1\" class=\"dataframe\">\n",
       "  <thead>\n",
       "    <tr style=\"text-align: right;\">\n",
       "      <th></th>\n",
       "      <th>date</th>\n",
       "      <th>day</th>\n",
       "      <th>week_day</th>\n",
       "      <th>month</th>\n",
       "      <th>year</th>\n",
       "      <th>hour</th>\n",
       "      <th>district</th>\n",
       "      <th>address</th>\n",
       "      <th>record</th>\n",
       "      <th>cum_victims</th>\n",
       "      <th>unique_victims</th>\n",
       "      <th>severity</th>\n",
       "      <th>type_accident</th>\n",
       "      <th>vehicle</th>\n",
       "      <th>person</th>\n",
       "      <th>gendre</th>\n",
       "      <th>age</th>\n",
       "      <th>weather</th>\n",
       "      <th>road_status</th>\n",
       "    </tr>\n",
       "  </thead>\n",
       "  <tbody>\n",
       "    <tr>\n",
       "      <th>0</th>\n",
       "      <td>2010-01-01</td>\n",
       "      <td>1</td>\n",
       "      <td>Friday</td>\n",
       "      <td>Jan</td>\n",
       "      <td>2010</td>\n",
       "      <td>From 00:00 to 00:59</td>\n",
       "      <td>CHAMARTIN</td>\n",
       "      <td>CALLE DE CARTAGENA NUM                                                                              104 Madrid</td>\n",
       "      <td>2010/135</td>\n",
       "      <td>1</td>\n",
       "      <td>1</td>\n",
       "      <td>slightly injured</td>\n",
       "      <td>double_colision</td>\n",
       "      <td>car</td>\n",
       "      <td>traveler</td>\n",
       "      <td>femenine</td>\n",
       "      <td>From 40 to 44 years</td>\n",
       "      <td>rain</td>\n",
       "      <td>wet</td>\n",
       "    </tr>\n",
       "    <tr>\n",
       "      <th>1</th>\n",
       "      <td>2010-01-01</td>\n",
       "      <td>1</td>\n",
       "      <td>Friday</td>\n",
       "      <td>Jan</td>\n",
       "      <td>2010</td>\n",
       "      <td>From 1:00 to 1:59</td>\n",
       "      <td>PUENTE DE VALLECAS</td>\n",
       "      <td>AUTOVIA  M-30 CALZADA 2 KM.                                                                         10200 Madrid</td>\n",
       "      <td>2010/94</td>\n",
       "      <td>7</td>\n",
       "      <td>1</td>\n",
       "      <td>slightly injured</td>\n",
       "      <td>multiple_colision</td>\n",
       "      <td>pedestrian</td>\n",
       "      <td>traveler</td>\n",
       "      <td>femenine</td>\n",
       "      <td>From 25 to 29 years</td>\n",
       "      <td>dry</td>\n",
       "      <td>wet</td>\n",
       "    </tr>\n",
       "    <tr>\n",
       "      <th>2</th>\n",
       "      <td>2010-01-01</td>\n",
       "      <td>1</td>\n",
       "      <td>Friday</td>\n",
       "      <td>Jan</td>\n",
       "      <td>2010</td>\n",
       "      <td>From 1:00 to 1:59</td>\n",
       "      <td>PUENTE DE VALLECAS</td>\n",
       "      <td>AUTOVIA  M-30 CALZADA 2 KM.                                                                         10200 Madrid</td>\n",
       "      <td>2010/94</td>\n",
       "      <td>7</td>\n",
       "      <td>1</td>\n",
       "      <td>slightly injured</td>\n",
       "      <td>multiple_colision</td>\n",
       "      <td>pedestrian</td>\n",
       "      <td>traveler</td>\n",
       "      <td>femenine</td>\n",
       "      <td>From 30 to 34 years</td>\n",
       "      <td>dry</td>\n",
       "      <td>wet</td>\n",
       "    </tr>\n",
       "    <tr>\n",
       "      <th>3</th>\n",
       "      <td>2010-01-01</td>\n",
       "      <td>1</td>\n",
       "      <td>Friday</td>\n",
       "      <td>Jan</td>\n",
       "      <td>2010</td>\n",
       "      <td>From 1:00 to 1:59</td>\n",
       "      <td>PUENTE DE VALLECAS</td>\n",
       "      <td>AUTOVIA  M-30 CALZADA 2 KM.                                                                         10200 Madrid</td>\n",
       "      <td>2010/94</td>\n",
       "      <td>7</td>\n",
       "      <td>1</td>\n",
       "      <td>slightly injured</td>\n",
       "      <td>multiple_colision</td>\n",
       "      <td>pedestrian</td>\n",
       "      <td>traveler</td>\n",
       "      <td>femenine</td>\n",
       "      <td>From 25 to 29 years</td>\n",
       "      <td>dry</td>\n",
       "      <td>wet</td>\n",
       "    </tr>\n",
       "    <tr>\n",
       "      <th>4</th>\n",
       "      <td>2010-01-01</td>\n",
       "      <td>1</td>\n",
       "      <td>Friday</td>\n",
       "      <td>Jan</td>\n",
       "      <td>2010</td>\n",
       "      <td>From 1:00 to 1:59</td>\n",
       "      <td>PUENTE DE VALLECAS</td>\n",
       "      <td>AUTOVIA  M-30 CALZADA 2 KM.                                                                         10200 Madrid</td>\n",
       "      <td>2010/94</td>\n",
       "      <td>7</td>\n",
       "      <td>1</td>\n",
       "      <td>slightly injured</td>\n",
       "      <td>multiple_colision</td>\n",
       "      <td>pedestrian</td>\n",
       "      <td>traveler</td>\n",
       "      <td>femenine</td>\n",
       "      <td>From 25 to 29 years</td>\n",
       "      <td>dry</td>\n",
       "      <td>wet</td>\n",
       "    </tr>\n",
       "  </tbody>\n",
       "</table>\n",
       "</div>"
      ],
      "text/plain": [
       "         date  day week_day month  year                 hour  \\\n",
       "0  2010-01-01    1   Friday   Jan  2010  From 00:00 to 00:59   \n",
       "1  2010-01-01    1   Friday   Jan  2010    From 1:00 to 1:59   \n",
       "2  2010-01-01    1   Friday   Jan  2010    From 1:00 to 1:59   \n",
       "3  2010-01-01    1   Friday   Jan  2010    From 1:00 to 1:59   \n",
       "4  2010-01-01    1   Friday   Jan  2010    From 1:00 to 1:59   \n",
       "\n",
       "                         district  \\\n",
       "0  CHAMARTIN                        \n",
       "1  PUENTE DE VALLECAS               \n",
       "2  PUENTE DE VALLECAS               \n",
       "3  PUENTE DE VALLECAS               \n",
       "4  PUENTE DE VALLECAS               \n",
       "\n",
       "                                                                                                            address  \\\n",
       "0    CALLE DE CARTAGENA NUM                                                                              104 Madrid   \n",
       "1  AUTOVIA  M-30 CALZADA 2 KM.                                                                         10200 Madrid   \n",
       "2  AUTOVIA  M-30 CALZADA 2 KM.                                                                         10200 Madrid   \n",
       "3  AUTOVIA  M-30 CALZADA 2 KM.                                                                         10200 Madrid   \n",
       "4  AUTOVIA  M-30 CALZADA 2 KM.                                                                         10200 Madrid   \n",
       "\n",
       "     record  cum_victims  unique_victims          severity      type_accident  \\\n",
       "0  2010/135            1               1  slightly injured    double_colision   \n",
       "1   2010/94            7               1  slightly injured  multiple_colision   \n",
       "2   2010/94            7               1  slightly injured  multiple_colision   \n",
       "3   2010/94            7               1  slightly injured  multiple_colision   \n",
       "4   2010/94            7               1  slightly injured  multiple_colision   \n",
       "\n",
       "      vehicle    person    gendre                  age weather road_status  \n",
       "0         car  traveler  femenine  From 40 to 44 years    rain         wet  \n",
       "1  pedestrian  traveler  femenine  From 25 to 29 years     dry         wet  \n",
       "2  pedestrian  traveler  femenine  From 30 to 34 years     dry         wet  \n",
       "3  pedestrian  traveler  femenine  From 25 to 29 years     dry         wet  \n",
       "4  pedestrian  traveler  femenine  From 25 to 29 years     dry         wet  "
      ]
     },
     "execution_count": 7,
     "metadata": {},
     "output_type": "execute_result"
    }
   ],
   "source": [
    "data_map.head()"
   ]
  },
  {
   "cell_type": "code",
   "execution_count": 8,
   "id": "coordinate-coffee",
   "metadata": {},
   "outputs": [
    {
     "data": {
      "text/plain": [
       "(111841, 19)"
      ]
     },
     "execution_count": 8,
     "metadata": {},
     "output_type": "execute_result"
    }
   ],
   "source": [
    "data_map.shape"
   ]
  },
  {
   "cell_type": "code",
   "execution_count": 9,
   "id": "helpful-rachel",
   "metadata": {},
   "outputs": [],
   "source": [
    "# data_map.loc[111768]\n",
    "# #moratalaz"
   ]
  },
  {
   "cell_type": "code",
   "execution_count": 10,
   "id": "radio-pearl",
   "metadata": {},
   "outputs": [
    {
     "data": {
      "text/plain": [
       "SALAMANCA                         8228\n",
       "CHAMARTIN                         7968\n",
       "CENTRO                            7624\n",
       "CIUDAD LINEAL                     7159\n",
       "PUENTE DE VALLECAS                7152\n",
       "CARABANCHEL                       6881\n",
       "MONCLOA-ARAVACA                   6331\n",
       "FUENCARRAL-EL PARDO               6274\n",
       "CHAMBERI                          6235\n",
       "RETIRO                            6027\n",
       "TETUAN                            5956\n",
       "ARGANZUELA                        5653\n",
       "LATINA                            5532\n",
       "SAN BLAS                          5255\n",
       "USERA                             3990\n",
       "HORTALEZA                         3854\n",
       "VILLAVERDE                        3145\n",
       "MORATALAZ                         2872\n",
       "VILLA DE VALLECAS                 2364\n",
       "BARAJAS                           1569\n",
       "VICALVARO                         1519\n",
       "VILLA DE VALLECAS                  253\n",
       "Name: district, dtype: int64"
      ]
     },
     "execution_count": 10,
     "metadata": {},
     "output_type": "execute_result"
    }
   ],
   "source": [
    "data_map['district'].value_counts()"
   ]
  },
  {
   "cell_type": "code",
   "execution_count": 11,
   "id": "loving-impossible",
   "metadata": {},
   "outputs": [
    {
     "data": {
      "text/plain": [
       "0"
      ]
     },
     "execution_count": 11,
     "metadata": {},
     "output_type": "execute_result"
    }
   ],
   "source": [
    "data_map['district'].isnull().sum()"
   ]
  },
  {
   "cell_type": "code",
   "execution_count": 12,
   "id": "compliant-jimmy",
   "metadata": {},
   "outputs": [],
   "source": [
    "#creating a columns for num_district: NO FUNCIONA\n",
    "def district (x):\n",
    "    if 'SALAMANCA'in x:\n",
    "        return 'Salamanca'\n",
    "    if 'CHAMARTIN'in x:\n",
    "        return 'Chamartin'\n",
    "    if 'CENTRO' in x:\n",
    "        return 'Centro'\n",
    "    if 'CIUDAD LINEAL' in x:\n",
    "        return 'Ciudad Lineal'\n",
    "    if 'PUENTE DE VALLECAS' in x:\n",
    "        return 'Puente de Vallecas'\n",
    "    if 'CARABANCHEL' in x:\n",
    "        return 'Carabanchel'\n",
    "    if 'CHAMBERI' in x:\n",
    "        return 'Chamberí'\n",
    "    if 'FUENCARRAL-EL PARDO'in x:\n",
    "        return 'Fuencarral - El Pardo' \n",
    "    if 'RETIRO'in x:\n",
    "        return 'Retiro'\n",
    "    if 'TETUAN' in x:\n",
    "        return 'Tetuán'\n",
    "    if 'MONCLOA-ARAVACA' in x:\n",
    "        return 'Moncloa - Aravaca'\n",
    "    if 'ARGANZUELA' in x:\n",
    "        return 'Arganzuela'\n",
    "    if 'LATINA' in x:\n",
    "        return 'Latina'\n",
    "    if 'SAN BLAS'in x:\n",
    "        return 'San Blas - Canillejas'\n",
    "    if 'USERA' in x:\n",
    "        return 'Usera'\n",
    "    if 'HORTALEZA'in x:\n",
    "        return 'Hortaleza'\n",
    "    if 'VILLAVERDE' in x:\n",
    "        return 'Villaverde'\n",
    "    if 'MORATALAZ' in x:\n",
    "        return 'Moratalaz'\n",
    "    if 'VILLA DE VALLECAS' in x:\n",
    "        return 'Villa de Vallecas'\n",
    "    if 'BARAJAS' in x:\n",
    "        return 'Barajas'\n",
    "    if 'VICALVARO'in x:\n",
    "        return 'Vicálvaro'\n",
    "    if 'VILLA DE VALLECAS' in x:\n",
    "        return 'Villa de Vallecas'  "
   ]
  },
  {
   "cell_type": "code",
   "execution_count": 13,
   "id": "oriental-least",
   "metadata": {},
   "outputs": [],
   "source": [
    "data_map['district']= data_map['district'].apply (district)"
   ]
  },
  {
   "cell_type": "code",
   "execution_count": 14,
   "id": "compressed-renewal",
   "metadata": {},
   "outputs": [
    {
     "data": {
      "text/plain": [
       "Salamanca                8228\n",
       "Chamartin                7968\n",
       "Centro                   7624\n",
       "Ciudad Lineal            7159\n",
       "Puente de Vallecas       7152\n",
       "Carabanchel              6881\n",
       "Moncloa - Aravaca        6331\n",
       "Fuencarral - El Pardo    6274\n",
       "Chamberí                 6235\n",
       "Retiro                   6027\n",
       "Tetuán                   5956\n",
       "Arganzuela               5653\n",
       "Latina                   5532\n",
       "San Blas - Canillejas    5255\n",
       "Usera                    3990\n",
       "Hortaleza                3854\n",
       "Villaverde               3145\n",
       "Moratalaz                2872\n",
       "Villa de Vallecas        2617\n",
       "Barajas                  1569\n",
       "Vicálvaro                1519\n",
       "Name: district, dtype: int64"
      ]
     },
     "execution_count": 14,
     "metadata": {},
     "output_type": "execute_result"
    }
   ],
   "source": [
    "data_map['district'].value_counts()"
   ]
  },
  {
   "cell_type": "code",
   "execution_count": 15,
   "id": "public-utility",
   "metadata": {},
   "outputs": [
    {
     "data": {
      "text/plain": [
       "0"
      ]
     },
     "execution_count": 15,
     "metadata": {},
     "output_type": "execute_result"
    }
   ],
   "source": [
    "data_map['district'].isnull().sum()"
   ]
  },
  {
   "cell_type": "code",
   "execution_count": 16,
   "id": "sealed-avenue",
   "metadata": {},
   "outputs": [
    {
     "data": {
      "text/html": [
       "<div>\n",
       "<style scoped>\n",
       "    .dataframe tbody tr th:only-of-type {\n",
       "        vertical-align: middle;\n",
       "    }\n",
       "\n",
       "    .dataframe tbody tr th {\n",
       "        vertical-align: top;\n",
       "    }\n",
       "\n",
       "    .dataframe thead th {\n",
       "        text-align: right;\n",
       "    }\n",
       "</style>\n",
       "<table border=\"1\" class=\"dataframe\">\n",
       "  <thead>\n",
       "    <tr style=\"text-align: right;\">\n",
       "      <th></th>\n",
       "      <th>date</th>\n",
       "      <th>day</th>\n",
       "      <th>week_day</th>\n",
       "      <th>month</th>\n",
       "      <th>year</th>\n",
       "      <th>hour</th>\n",
       "      <th>district</th>\n",
       "      <th>address</th>\n",
       "      <th>record</th>\n",
       "      <th>cum_victims</th>\n",
       "      <th>unique_victims</th>\n",
       "      <th>severity</th>\n",
       "      <th>type_accident</th>\n",
       "      <th>vehicle</th>\n",
       "      <th>person</th>\n",
       "      <th>gendre</th>\n",
       "      <th>age</th>\n",
       "      <th>weather</th>\n",
       "      <th>road_status</th>\n",
       "    </tr>\n",
       "  </thead>\n",
       "  <tbody>\n",
       "  </tbody>\n",
       "</table>\n",
       "</div>"
      ],
      "text/plain": [
       "Empty DataFrame\n",
       "Columns: [date, day, week_day, month, year, hour, district, address, record, cum_victims, unique_victims, severity, type_accident, vehicle, person, gendre, age, weather, road_status]\n",
       "Index: []"
      ]
     },
     "execution_count": 16,
     "metadata": {},
     "output_type": "execute_result"
    }
   ],
   "source": [
    "data_map[data_map['district'].isnull()]"
   ]
  },
  {
   "cell_type": "code",
   "execution_count": 17,
   "id": "statewide-angola",
   "metadata": {},
   "outputs": [],
   "source": [
    "#creating a columns for num_district: NO FUNCIONA\n",
    "def num_district (row):\n",
    "    if row['district'] == 'Salamanca':\n",
    "        return '04'\n",
    "    if row['district'] == 'Chamartin':\n",
    "        return '05'\n",
    "    if row['district'] == 'Centro':\n",
    "        return '01'\n",
    "    if row['district'] == 'Ciudad Lineal':\n",
    "        return '15'\n",
    "    if row['district'] == 'Puente de Vallecas':\n",
    "        return '13'\n",
    "    if row['district'] == 'Carabanchel':\n",
    "        return '11'\n",
    "    if row['district'] == 'Chamberí':\n",
    "        return '07'\n",
    "    if row['district'] == 'Fuencarral - El Pardo' :\n",
    "        return '08'\n",
    "    if row['district'] == 'Retiro':\n",
    "        return '03'\n",
    "    if row['district'] == 'Tetuán':\n",
    "        return '06'\n",
    "    if row['district'] == 'Moncloa - Aravaca':\n",
    "        return '09'\n",
    "    if row['district'] == 'Arganzuela':\n",
    "        return '02'\n",
    "    if row['district'] == 'Latina':\n",
    "        return '10'\n",
    "    if row['district'] == 'San Blas - Canillejas':\n",
    "        return '20'\n",
    "    if row['district'] == 'Usera':\n",
    "        return '12'\n",
    "    if row['district'] == 'Hortaleza':\n",
    "        return '16'\n",
    "    if row['district'] == 'Villaverde':\n",
    "        return '17'\n",
    "    if row['district'] == 'Moratalaz':\n",
    "        return '14'\n",
    "    if row['district'] == 'Villa de Vallecas':\n",
    "        return '18'\n",
    "    if row['district'] == 'Barajas':\n",
    "        return '21'\n",
    "    if row['district'] == 'Vicálvaro':\n",
    "        return '19'"
   ]
  },
  {
   "cell_type": "code",
   "execution_count": 18,
   "id": "advanced-compromise",
   "metadata": {},
   "outputs": [
    {
     "data": {
      "text/plain": [
       "0         05\n",
       "1         13\n",
       "2         13\n",
       "3         13\n",
       "4         13\n",
       "          ..\n",
       "111836    20\n",
       "111837    20\n",
       "111838    01\n",
       "111839    04\n",
       "111840    16\n",
       "Length: 111841, dtype: object"
      ]
     },
     "execution_count": 18,
     "metadata": {},
     "output_type": "execute_result"
    }
   ],
   "source": [
    "data_map.apply (lambda row: num_district(row), axis=1)"
   ]
  },
  {
   "cell_type": "code",
   "execution_count": 19,
   "id": "ecological-capability",
   "metadata": {},
   "outputs": [],
   "source": [
    "data_map['num_district'] = data_map.apply (lambda row: num_district(row), axis=1)"
   ]
  },
  {
   "cell_type": "code",
   "execution_count": 20,
   "id": "breeding-leisure",
   "metadata": {},
   "outputs": [
    {
     "data": {
      "text/plain": [
       "04    8228\n",
       "05    7968\n",
       "01    7624\n",
       "15    7159\n",
       "13    7152\n",
       "11    6881\n",
       "09    6331\n",
       "08    6274\n",
       "07    6235\n",
       "03    6027\n",
       "06    5956\n",
       "02    5653\n",
       "10    5532\n",
       "20    5255\n",
       "12    3990\n",
       "16    3854\n",
       "17    3145\n",
       "14    2872\n",
       "18    2617\n",
       "21    1569\n",
       "19    1519\n",
       "Name: num_district, dtype: int64"
      ]
     },
     "execution_count": 20,
     "metadata": {},
     "output_type": "execute_result"
    }
   ],
   "source": [
    "data_map['num_district'].value_counts()"
   ]
  },
  {
   "cell_type": "code",
   "execution_count": 21,
   "id": "qualified-content",
   "metadata": {},
   "outputs": [
    {
     "data": {
      "text/plain": [
       "0"
      ]
     },
     "execution_count": 21,
     "metadata": {},
     "output_type": "execute_result"
    }
   ],
   "source": [
    "data_map['num_district'].isnull().sum()"
   ]
  },
  {
   "cell_type": "code",
   "execution_count": 22,
   "id": "circular-element",
   "metadata": {},
   "outputs": [
    {
     "data": {
      "text/html": [
       "<div>\n",
       "<style scoped>\n",
       "    .dataframe tbody tr th:only-of-type {\n",
       "        vertical-align: middle;\n",
       "    }\n",
       "\n",
       "    .dataframe tbody tr th {\n",
       "        vertical-align: top;\n",
       "    }\n",
       "\n",
       "    .dataframe thead th {\n",
       "        text-align: right;\n",
       "    }\n",
       "</style>\n",
       "<table border=\"1\" class=\"dataframe\">\n",
       "  <thead>\n",
       "    <tr style=\"text-align: right;\">\n",
       "      <th></th>\n",
       "      <th>date</th>\n",
       "      <th>day</th>\n",
       "      <th>week_day</th>\n",
       "      <th>month</th>\n",
       "      <th>year</th>\n",
       "      <th>hour</th>\n",
       "      <th>district</th>\n",
       "      <th>address</th>\n",
       "      <th>record</th>\n",
       "      <th>cum_victims</th>\n",
       "      <th>unique_victims</th>\n",
       "      <th>severity</th>\n",
       "      <th>type_accident</th>\n",
       "      <th>vehicle</th>\n",
       "      <th>person</th>\n",
       "      <th>gendre</th>\n",
       "      <th>age</th>\n",
       "      <th>weather</th>\n",
       "      <th>road_status</th>\n",
       "      <th>num_district</th>\n",
       "    </tr>\n",
       "  </thead>\n",
       "  <tbody>\n",
       "  </tbody>\n",
       "</table>\n",
       "</div>"
      ],
      "text/plain": [
       "Empty DataFrame\n",
       "Columns: [date, day, week_day, month, year, hour, district, address, record, cum_victims, unique_victims, severity, type_accident, vehicle, person, gendre, age, weather, road_status, num_district]\n",
       "Index: []"
      ]
     },
     "execution_count": 22,
     "metadata": {},
     "output_type": "execute_result"
    }
   ],
   "source": [
    "data_map[data_map['num_district'].isnull()]"
   ]
  },
  {
   "cell_type": "code",
   "execution_count": 23,
   "id": "diagnostic-claim",
   "metadata": {},
   "outputs": [
    {
     "data": {
      "text/plain": [
       "slightly injured     102716\n",
       "seriously injured      8850\n",
       "mortal                  275\n",
       "Name: severity, dtype: int64"
      ]
     },
     "execution_count": 23,
     "metadata": {},
     "output_type": "execute_result"
    }
   ],
   "source": [
    "data_map['severity'].value_counts()"
   ]
  },
  {
   "cell_type": "code",
   "execution_count": 24,
   "id": "different-carter",
   "metadata": {},
   "outputs": [],
   "source": [
    "def clean_severity(x):\n",
    "    if 'slightly injured'in x:\n",
    "        return 'slightly injured'\n",
    "    elif 'seriously injured'in x:\n",
    "        return 'high severity or mortal'\n",
    "    elif 'mortal' in x:\n",
    "        return 'high severity or mortal'"
   ]
  },
  {
   "cell_type": "code",
   "execution_count": 25,
   "id": "fiscal-punch",
   "metadata": {},
   "outputs": [
    {
     "data": {
      "text/plain": [
       "slightly injured           102716\n",
       "high severity or mortal      9125\n",
       "Name: high_severity, dtype: int64"
      ]
     },
     "execution_count": 25,
     "metadata": {},
     "output_type": "execute_result"
    }
   ],
   "source": [
    "data_map['high_severity']= data_map['severity'].apply (clean_severity)\n",
    "data_map['high_severity'].value_counts()"
   ]
  },
  {
   "cell_type": "code",
   "execution_count": 26,
   "id": "written-certificate",
   "metadata": {},
   "outputs": [
    {
     "data": {
      "text/plain": [
       "(111841, 21)"
      ]
     },
     "execution_count": 26,
     "metadata": {},
     "output_type": "execute_result"
    }
   ],
   "source": [
    "data_map.shape"
   ]
  },
  {
   "cell_type": "code",
   "execution_count": 27,
   "id": "organized-atlanta",
   "metadata": {
    "scrolled": false
   },
   "outputs": [
    {
     "data": {
      "text/html": [
       "<div>\n",
       "<style scoped>\n",
       "    .dataframe tbody tr th:only-of-type {\n",
       "        vertical-align: middle;\n",
       "    }\n",
       "\n",
       "    .dataframe tbody tr th {\n",
       "        vertical-align: top;\n",
       "    }\n",
       "\n",
       "    .dataframe thead th {\n",
       "        text-align: right;\n",
       "    }\n",
       "</style>\n",
       "<table border=\"1\" class=\"dataframe\">\n",
       "  <thead>\n",
       "    <tr style=\"text-align: right;\">\n",
       "      <th></th>\n",
       "      <th>date</th>\n",
       "      <th>day</th>\n",
       "      <th>week_day</th>\n",
       "      <th>month</th>\n",
       "      <th>year</th>\n",
       "      <th>hour</th>\n",
       "      <th>district</th>\n",
       "      <th>address</th>\n",
       "      <th>record</th>\n",
       "      <th>cum_victims</th>\n",
       "      <th>unique_victims</th>\n",
       "      <th>severity</th>\n",
       "      <th>type_accident</th>\n",
       "      <th>vehicle</th>\n",
       "      <th>person</th>\n",
       "      <th>gendre</th>\n",
       "      <th>age</th>\n",
       "      <th>weather</th>\n",
       "      <th>road_status</th>\n",
       "      <th>num_district</th>\n",
       "      <th>high_severity</th>\n",
       "    </tr>\n",
       "  </thead>\n",
       "  <tbody>\n",
       "    <tr>\n",
       "      <th>0</th>\n",
       "      <td>2010-01-01</td>\n",
       "      <td>1</td>\n",
       "      <td>Friday</td>\n",
       "      <td>Jan</td>\n",
       "      <td>2010</td>\n",
       "      <td>From 00:00 to 00:59</td>\n",
       "      <td>Chamartin</td>\n",
       "      <td>CALLE DE CARTAGENA NUM                                                                              104 Madrid</td>\n",
       "      <td>2010/135</td>\n",
       "      <td>1</td>\n",
       "      <td>1</td>\n",
       "      <td>slightly injured</td>\n",
       "      <td>double_colision</td>\n",
       "      <td>car</td>\n",
       "      <td>traveler</td>\n",
       "      <td>femenine</td>\n",
       "      <td>From 40 to 44 years</td>\n",
       "      <td>rain</td>\n",
       "      <td>wet</td>\n",
       "      <td>05</td>\n",
       "      <td>slightly injured</td>\n",
       "    </tr>\n",
       "    <tr>\n",
       "      <th>1</th>\n",
       "      <td>2010-01-01</td>\n",
       "      <td>1</td>\n",
       "      <td>Friday</td>\n",
       "      <td>Jan</td>\n",
       "      <td>2010</td>\n",
       "      <td>From 1:00 to 1:59</td>\n",
       "      <td>Puente de Vallecas</td>\n",
       "      <td>AUTOVIA  M-30 CALZADA 2 KM.                                                                         10200 Madrid</td>\n",
       "      <td>2010/94</td>\n",
       "      <td>7</td>\n",
       "      <td>1</td>\n",
       "      <td>slightly injured</td>\n",
       "      <td>multiple_colision</td>\n",
       "      <td>pedestrian</td>\n",
       "      <td>traveler</td>\n",
       "      <td>femenine</td>\n",
       "      <td>From 25 to 29 years</td>\n",
       "      <td>dry</td>\n",
       "      <td>wet</td>\n",
       "      <td>13</td>\n",
       "      <td>slightly injured</td>\n",
       "    </tr>\n",
       "    <tr>\n",
       "      <th>2</th>\n",
       "      <td>2010-01-01</td>\n",
       "      <td>1</td>\n",
       "      <td>Friday</td>\n",
       "      <td>Jan</td>\n",
       "      <td>2010</td>\n",
       "      <td>From 1:00 to 1:59</td>\n",
       "      <td>Puente de Vallecas</td>\n",
       "      <td>AUTOVIA  M-30 CALZADA 2 KM.                                                                         10200 Madrid</td>\n",
       "      <td>2010/94</td>\n",
       "      <td>7</td>\n",
       "      <td>1</td>\n",
       "      <td>slightly injured</td>\n",
       "      <td>multiple_colision</td>\n",
       "      <td>pedestrian</td>\n",
       "      <td>traveler</td>\n",
       "      <td>femenine</td>\n",
       "      <td>From 30 to 34 years</td>\n",
       "      <td>dry</td>\n",
       "      <td>wet</td>\n",
       "      <td>13</td>\n",
       "      <td>slightly injured</td>\n",
       "    </tr>\n",
       "    <tr>\n",
       "      <th>3</th>\n",
       "      <td>2010-01-01</td>\n",
       "      <td>1</td>\n",
       "      <td>Friday</td>\n",
       "      <td>Jan</td>\n",
       "      <td>2010</td>\n",
       "      <td>From 1:00 to 1:59</td>\n",
       "      <td>Puente de Vallecas</td>\n",
       "      <td>AUTOVIA  M-30 CALZADA 2 KM.                                                                         10200 Madrid</td>\n",
       "      <td>2010/94</td>\n",
       "      <td>7</td>\n",
       "      <td>1</td>\n",
       "      <td>slightly injured</td>\n",
       "      <td>multiple_colision</td>\n",
       "      <td>pedestrian</td>\n",
       "      <td>traveler</td>\n",
       "      <td>femenine</td>\n",
       "      <td>From 25 to 29 years</td>\n",
       "      <td>dry</td>\n",
       "      <td>wet</td>\n",
       "      <td>13</td>\n",
       "      <td>slightly injured</td>\n",
       "    </tr>\n",
       "    <tr>\n",
       "      <th>4</th>\n",
       "      <td>2010-01-01</td>\n",
       "      <td>1</td>\n",
       "      <td>Friday</td>\n",
       "      <td>Jan</td>\n",
       "      <td>2010</td>\n",
       "      <td>From 1:00 to 1:59</td>\n",
       "      <td>Puente de Vallecas</td>\n",
       "      <td>AUTOVIA  M-30 CALZADA 2 KM.                                                                         10200 Madrid</td>\n",
       "      <td>2010/94</td>\n",
       "      <td>7</td>\n",
       "      <td>1</td>\n",
       "      <td>slightly injured</td>\n",
       "      <td>multiple_colision</td>\n",
       "      <td>pedestrian</td>\n",
       "      <td>traveler</td>\n",
       "      <td>femenine</td>\n",
       "      <td>From 25 to 29 years</td>\n",
       "      <td>dry</td>\n",
       "      <td>wet</td>\n",
       "      <td>13</td>\n",
       "      <td>slightly injured</td>\n",
       "    </tr>\n",
       "  </tbody>\n",
       "</table>\n",
       "</div>"
      ],
      "text/plain": [
       "         date  day week_day month  year                 hour  \\\n",
       "0  2010-01-01    1   Friday   Jan  2010  From 00:00 to 00:59   \n",
       "1  2010-01-01    1   Friday   Jan  2010    From 1:00 to 1:59   \n",
       "2  2010-01-01    1   Friday   Jan  2010    From 1:00 to 1:59   \n",
       "3  2010-01-01    1   Friday   Jan  2010    From 1:00 to 1:59   \n",
       "4  2010-01-01    1   Friday   Jan  2010    From 1:00 to 1:59   \n",
       "\n",
       "             district  \\\n",
       "0           Chamartin   \n",
       "1  Puente de Vallecas   \n",
       "2  Puente de Vallecas   \n",
       "3  Puente de Vallecas   \n",
       "4  Puente de Vallecas   \n",
       "\n",
       "                                                                                                            address  \\\n",
       "0    CALLE DE CARTAGENA NUM                                                                              104 Madrid   \n",
       "1  AUTOVIA  M-30 CALZADA 2 KM.                                                                         10200 Madrid   \n",
       "2  AUTOVIA  M-30 CALZADA 2 KM.                                                                         10200 Madrid   \n",
       "3  AUTOVIA  M-30 CALZADA 2 KM.                                                                         10200 Madrid   \n",
       "4  AUTOVIA  M-30 CALZADA 2 KM.                                                                         10200 Madrid   \n",
       "\n",
       "     record  cum_victims  unique_victims          severity      type_accident  \\\n",
       "0  2010/135            1               1  slightly injured    double_colision   \n",
       "1   2010/94            7               1  slightly injured  multiple_colision   \n",
       "2   2010/94            7               1  slightly injured  multiple_colision   \n",
       "3   2010/94            7               1  slightly injured  multiple_colision   \n",
       "4   2010/94            7               1  slightly injured  multiple_colision   \n",
       "\n",
       "      vehicle    person    gendre                  age weather road_status  \\\n",
       "0         car  traveler  femenine  From 40 to 44 years    rain         wet   \n",
       "1  pedestrian  traveler  femenine  From 25 to 29 years     dry         wet   \n",
       "2  pedestrian  traveler  femenine  From 30 to 34 years     dry         wet   \n",
       "3  pedestrian  traveler  femenine  From 25 to 29 years     dry         wet   \n",
       "4  pedestrian  traveler  femenine  From 25 to 29 years     dry         wet   \n",
       "\n",
       "  num_district     high_severity  \n",
       "0           05  slightly injured  \n",
       "1           13  slightly injured  \n",
       "2           13  slightly injured  \n",
       "3           13  slightly injured  \n",
       "4           13  slightly injured  "
      ]
     },
     "execution_count": 27,
     "metadata": {},
     "output_type": "execute_result"
    }
   ],
   "source": [
    "data_map.head()"
   ]
  },
  {
   "cell_type": "code",
   "execution_count": null,
   "id": "interested-fitness",
   "metadata": {},
   "outputs": [],
   "source": []
  }
 ],
 "metadata": {
  "kernelspec": {
   "display_name": "Python 3",
   "language": "python",
   "name": "python3"
  },
  "language_info": {
   "codemirror_mode": {
    "name": "ipython",
    "version": 3
   },
   "file_extension": ".py",
   "mimetype": "text/x-python",
   "name": "python",
   "nbconvert_exporter": "python",
   "pygments_lexer": "ipython3",
   "version": "3.7.10"
  }
 },
 "nbformat": 4,
 "nbformat_minor": 5
}
