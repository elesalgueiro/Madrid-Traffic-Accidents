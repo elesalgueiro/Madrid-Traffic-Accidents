{
 "cells": [
  {
   "cell_type": "code",
   "execution_count": 369,
   "id": "spectacular-europe",
   "metadata": {},
   "outputs": [],
   "source": [
    "# Cell-to-cell script\n",
    "from IPython.core.interactiveshell import InteractiveShell\n",
    "InteractiveShell.ast_node_interactivity = \"all\""
   ]
  },
  {
   "cell_type": "code",
   "execution_count": 370,
   "id": "eight-boating",
   "metadata": {},
   "outputs": [],
   "source": [
    "# Remove warning errors\n",
    "import warnings\n",
    "warnings.filterwarnings('ignore')"
   ]
  },
  {
   "cell_type": "code",
   "execution_count": 371,
   "id": "comparative-permission",
   "metadata": {},
   "outputs": [],
   "source": [
    "# Pandas functions\n",
    "import pandas as pd\n",
    "# Numpy functions\n",
    "import numpy as np"
   ]
  },
  {
   "cell_type": "code",
   "execution_count": 372,
   "id": "promotional-groove",
   "metadata": {},
   "outputs": [],
   "source": [
    "#Display all columns\n",
    "pd.set_option('display.max_columns', None)\n",
    "pd.set_option('display.max_colwidth',None)"
   ]
  },
  {
   "cell_type": "code",
   "execution_count": 373,
   "id": "olive-platinum",
   "metadata": {},
   "outputs": [],
   "source": [
    "#Importing the data conncatenated. Accidents from 2010 to 2018\n",
    "data_total = pd.read_csv ('total_accidents_madrid.csv')"
   ]
  },
  {
   "cell_type": "code",
   "execution_count": 374,
   "id": "genetic-addition",
   "metadata": {},
   "outputs": [
    {
     "data": {
      "text/html": [
       "<div>\n",
       "<style scoped>\n",
       "    .dataframe tbody tr th:only-of-type {\n",
       "        vertical-align: middle;\n",
       "    }\n",
       "\n",
       "    .dataframe tbody tr th {\n",
       "        vertical-align: top;\n",
       "    }\n",
       "\n",
       "    .dataframe thead th {\n",
       "        text-align: right;\n",
       "    }\n",
       "</style>\n",
       "<table border=\"1\" class=\"dataframe\">\n",
       "  <thead>\n",
       "    <tr style=\"text-align: right;\">\n",
       "      <th></th>\n",
       "      <th>fecha</th>\n",
       "      <th>rango_horario</th>\n",
       "      <th>dia_semana</th>\n",
       "      <th>distrito</th>\n",
       "      <th>lugar</th>\n",
       "      <th>num_calle</th>\n",
       "      <th>nº_parte</th>\n",
       "      <th>cpfa_granizo</th>\n",
       "      <th>cpfa_hielo</th>\n",
       "      <th>cpfa_lluvia</th>\n",
       "      <th>cpfa_niebla</th>\n",
       "      <th>cpfa_seco</th>\n",
       "      <th>cpfa_nieve</th>\n",
       "      <th>cpsv_mojada</th>\n",
       "      <th>cpsv_aceite</th>\n",
       "      <th>cpsv_barro</th>\n",
       "      <th>cpsv_grava_suelta</th>\n",
       "      <th>cpsv_hielo</th>\n",
       "      <th>cpsv_seca_y_limpia</th>\n",
       "      <th>victimas</th>\n",
       "      <th>tipo_accidente</th>\n",
       "      <th>tipo_vehiculo</th>\n",
       "      <th>tipo_persona</th>\n",
       "      <th>sexo</th>\n",
       "      <th>lesividad</th>\n",
       "      <th>tramo_edad</th>\n",
       "    </tr>\n",
       "  </thead>\n",
       "  <tbody>\n",
       "    <tr>\n",
       "      <th>0</th>\n",
       "      <td>2010-01-01</td>\n",
       "      <td>DE 00:00 A 00:59</td>\n",
       "      <td>VIERNES</td>\n",
       "      <td>CHAMARTIN</td>\n",
       "      <td>CALLE DE CARTAGENA NUM</td>\n",
       "      <td>104</td>\n",
       "      <td>2010/135</td>\n",
       "      <td>NO</td>\n",
       "      <td>NO</td>\n",
       "      <td>SI</td>\n",
       "      <td>NO</td>\n",
       "      <td>NO</td>\n",
       "      <td>NO</td>\n",
       "      <td>SI</td>\n",
       "      <td>NO</td>\n",
       "      <td>NO</td>\n",
       "      <td>NO</td>\n",
       "      <td>NO</td>\n",
       "      <td>NO</td>\n",
       "      <td>1</td>\n",
       "      <td>COLISIÓN DOBLE</td>\n",
       "      <td>TURISMO</td>\n",
       "      <td>CONDUCTOR</td>\n",
       "      <td>HOMBRE</td>\n",
       "      <td>IL</td>\n",
       "      <td>DE 18 A 20 AÑOS</td>\n",
       "    </tr>\n",
       "    <tr>\n",
       "      <th>1</th>\n",
       "      <td>2010-01-01</td>\n",
       "      <td>DE 00:00 A 00:59</td>\n",
       "      <td>VIERNES</td>\n",
       "      <td>CHAMARTIN</td>\n",
       "      <td>CALLE DE CARTAGENA NUM</td>\n",
       "      <td>104</td>\n",
       "      <td>2010/135</td>\n",
       "      <td>NO</td>\n",
       "      <td>NO</td>\n",
       "      <td>SI</td>\n",
       "      <td>NO</td>\n",
       "      <td>NO</td>\n",
       "      <td>NO</td>\n",
       "      <td>SI</td>\n",
       "      <td>NO</td>\n",
       "      <td>NO</td>\n",
       "      <td>NO</td>\n",
       "      <td>NO</td>\n",
       "      <td>NO</td>\n",
       "      <td>1</td>\n",
       "      <td>COLISIÓN DOBLE</td>\n",
       "      <td>TURISMO</td>\n",
       "      <td>CONDUCTOR</td>\n",
       "      <td>HOMBRE</td>\n",
       "      <td>IL</td>\n",
       "      <td>DE 50 A 54 AÑOS</td>\n",
       "    </tr>\n",
       "    <tr>\n",
       "      <th>2</th>\n",
       "      <td>2010-01-01</td>\n",
       "      <td>DE 00:00 A 00:59</td>\n",
       "      <td>VIERNES</td>\n",
       "      <td>CHAMARTIN</td>\n",
       "      <td>CALLE DE CARTAGENA NUM</td>\n",
       "      <td>104</td>\n",
       "      <td>2010/135</td>\n",
       "      <td>NO</td>\n",
       "      <td>NO</td>\n",
       "      <td>SI</td>\n",
       "      <td>NO</td>\n",
       "      <td>NO</td>\n",
       "      <td>NO</td>\n",
       "      <td>SI</td>\n",
       "      <td>NO</td>\n",
       "      <td>NO</td>\n",
       "      <td>NO</td>\n",
       "      <td>NO</td>\n",
       "      <td>NO</td>\n",
       "      <td>1</td>\n",
       "      <td>COLISIÓN DOBLE</td>\n",
       "      <td>TURISMO</td>\n",
       "      <td>VIAJERO</td>\n",
       "      <td>MUJER</td>\n",
       "      <td>HL</td>\n",
       "      <td>DE 40 A 44 AÑOS</td>\n",
       "    </tr>\n",
       "    <tr>\n",
       "      <th>3</th>\n",
       "      <td>2010-01-01</td>\n",
       "      <td>DE 1:00 A 1:59</td>\n",
       "      <td>VIERNES</td>\n",
       "      <td>PUENTE DE VALLECAS</td>\n",
       "      <td>AUTOVIA  M-30 CALZADA 2 KM.</td>\n",
       "      <td>10200</td>\n",
       "      <td>2010/94</td>\n",
       "      <td>NO</td>\n",
       "      <td>NO</td>\n",
       "      <td>NO</td>\n",
       "      <td>NO</td>\n",
       "      <td>SI</td>\n",
       "      <td>NO</td>\n",
       "      <td>SI</td>\n",
       "      <td>NO</td>\n",
       "      <td>NO</td>\n",
       "      <td>NO</td>\n",
       "      <td>NO</td>\n",
       "      <td>NO</td>\n",
       "      <td>7</td>\n",
       "      <td>COLISIÓN MÚLTIPLE</td>\n",
       "      <td>NO ASIGNADO</td>\n",
       "      <td>VIAJERO</td>\n",
       "      <td>MUJER</td>\n",
       "      <td>HL</td>\n",
       "      <td>DE 25 A 29 AÑOS</td>\n",
       "    </tr>\n",
       "    <tr>\n",
       "      <th>4</th>\n",
       "      <td>2010-01-01</td>\n",
       "      <td>DE 1:00 A 1:59</td>\n",
       "      <td>VIERNES</td>\n",
       "      <td>PUENTE DE VALLECAS</td>\n",
       "      <td>AUTOVIA  M-30 CALZADA 2 KM.</td>\n",
       "      <td>10200</td>\n",
       "      <td>2010/94</td>\n",
       "      <td>NO</td>\n",
       "      <td>NO</td>\n",
       "      <td>NO</td>\n",
       "      <td>NO</td>\n",
       "      <td>SI</td>\n",
       "      <td>NO</td>\n",
       "      <td>SI</td>\n",
       "      <td>NO</td>\n",
       "      <td>NO</td>\n",
       "      <td>NO</td>\n",
       "      <td>NO</td>\n",
       "      <td>NO</td>\n",
       "      <td>7</td>\n",
       "      <td>COLISIÓN MÚLTIPLE</td>\n",
       "      <td>NO ASIGNADO</td>\n",
       "      <td>VIAJERO</td>\n",
       "      <td>MUJER</td>\n",
       "      <td>HL</td>\n",
       "      <td>DE 30 A 34 ANOS</td>\n",
       "    </tr>\n",
       "  </tbody>\n",
       "</table>\n",
       "</div>"
      ],
      "text/plain": [
       "        fecha     rango_horario dia_semana                        distrito  \\\n",
       "0  2010-01-01  DE 00:00 A 00:59    VIERNES  CHAMARTIN                        \n",
       "1  2010-01-01  DE 00:00 A 00:59    VIERNES  CHAMARTIN                        \n",
       "2  2010-01-01  DE 00:00 A 00:59    VIERNES  CHAMARTIN                        \n",
       "3  2010-01-01    DE 1:00 A 1:59    VIERNES  PUENTE DE VALLECAS               \n",
       "4  2010-01-01    DE 1:00 A 1:59    VIERNES  PUENTE DE VALLECAS               \n",
       "\n",
       "                                                                                                  lugar  \\\n",
       "0  CALLE DE CARTAGENA NUM                                                                                 \n",
       "1  CALLE DE CARTAGENA NUM                                                                                 \n",
       "2  CALLE DE CARTAGENA NUM                                                                                 \n",
       "3  AUTOVIA  M-30 CALZADA 2 KM.                                                                            \n",
       "4  AUTOVIA  M-30 CALZADA 2 KM.                                                                            \n",
       "\n",
       "  num_calle  nº_parte cpfa_granizo cpfa_hielo cpfa_lluvia cpfa_niebla  \\\n",
       "0       104  2010/135           NO         NO          SI          NO   \n",
       "1       104  2010/135           NO         NO          SI          NO   \n",
       "2       104  2010/135           NO         NO          SI          NO   \n",
       "3     10200   2010/94           NO         NO          NO          NO   \n",
       "4     10200   2010/94           NO         NO          NO          NO   \n",
       "\n",
       "  cpfa_seco cpfa_nieve cpsv_mojada cpsv_aceite cpsv_barro cpsv_grava_suelta  \\\n",
       "0        NO         NO          SI          NO         NO                NO   \n",
       "1        NO         NO          SI          NO         NO                NO   \n",
       "2        NO         NO          SI          NO         NO                NO   \n",
       "3        SI         NO          SI          NO         NO                NO   \n",
       "4        SI         NO          SI          NO         NO                NO   \n",
       "\n",
       "  cpsv_hielo cpsv_seca_y_limpia  victimas  \\\n",
       "0         NO                 NO         1   \n",
       "1         NO                 NO         1   \n",
       "2         NO                 NO         1   \n",
       "3         NO                 NO         7   \n",
       "4         NO                 NO         7   \n",
       "\n",
       "                             tipo_accidente  \\\n",
       "0  COLISIÓN DOBLE                             \n",
       "1  COLISIÓN DOBLE                             \n",
       "2  COLISIÓN DOBLE                             \n",
       "3  COLISIÓN MÚLTIPLE                          \n",
       "4  COLISIÓN MÚLTIPLE                          \n",
       "\n",
       "                              tipo_vehiculo  \\\n",
       "0  TURISMO                                    \n",
       "1  TURISMO                                    \n",
       "2  TURISMO                                    \n",
       "3                               NO ASIGNADO   \n",
       "4                               NO ASIGNADO   \n",
       "\n",
       "                               tipo_persona    sexo  \\\n",
       "0                                 CONDUCTOR  HOMBRE   \n",
       "1                                 CONDUCTOR  HOMBRE   \n",
       "2  VIAJERO                                    MUJER   \n",
       "3  VIAJERO                                    MUJER   \n",
       "4  VIAJERO                                    MUJER   \n",
       "\n",
       "                                  lesividad       tramo_edad  \n",
       "0  IL                                        DE 18 A 20 AÑOS  \n",
       "1  IL                                        DE 50 A 54 AÑOS  \n",
       "2  HL                                        DE 40 A 44 AÑOS  \n",
       "3  HL                                        DE 25 A 29 AÑOS  \n",
       "4  HL                                        DE 30 A 34 ANOS  "
      ]
     },
     "execution_count": 374,
     "metadata": {},
     "output_type": "execute_result"
    },
    {
     "data": {
      "text/plain": [
       "(252998, 26)"
      ]
     },
     "execution_count": 374,
     "metadata": {},
     "output_type": "execute_result"
    }
   ],
   "source": [
    "data_total.head()\n",
    "data_total.shape"
   ]
  },
  {
   "cell_type": "markdown",
   "id": "sexual-honduras",
   "metadata": {},
   "source": [
    "* Checking if we have NaN values"
   ]
  },
  {
   "cell_type": "code",
   "execution_count": 375,
   "id": "therapeutic-swiss",
   "metadata": {},
   "outputs": [],
   "source": [
    "# #Checking nulls: \n",
    "# data_total.isnull().sum()\n",
    "# # data.isnull().sum()/len(data)\n",
    "# #THERE IS NO NAN VALUES!"
   ]
  },
  {
   "cell_type": "code",
   "execution_count": 376,
   "id": "limiting-latin",
   "metadata": {},
   "outputs": [],
   "source": [
    "# #Checking data types\n",
    "# data_total.dtypes"
   ]
  },
  {
   "cell_type": "markdown",
   "id": "annual-chicago",
   "metadata": {},
   "source": [
    "#### UNDERSTANDING THE DATA\n",
    "\n",
    "The file includes a record per person involved in the accident (drivers, travelers, pedestrians, witnesses, etc.)and it assigned the same number of part of accident (nº_parte) and number of victims to each accident.\n",
    "\n",
    "Thus, the nº_parte is repeated, so a unique nº _parte represent a unique accident. Also the column 'Victimas' is repeated in the same nº_parte.\n",
    "\n",
    "Dates: The column 'Fecha' indicates de date the accident happened. We need separated columns with month and year for our analysis. "
   ]
  },
  {
   "cell_type": "markdown",
   "id": "respected-reference",
   "metadata": {},
   "source": [
    "**Create a column with the year and a columns with the month**"
   ]
  },
  {
   "cell_type": "code",
   "execution_count": 377,
   "id": "capital-sharp",
   "metadata": {},
   "outputs": [],
   "source": [
    "#Convert the 'fecha' column to datatime format\n",
    "data_total['fecha']= pd.to_datetime(data_total['fecha'])"
   ]
  },
  {
   "cell_type": "code",
   "execution_count": 378,
   "id": "copyrighted-apparatus",
   "metadata": {},
   "outputs": [],
   "source": [
    "# data_total.dtypes"
   ]
  },
  {
   "cell_type": "code",
   "execution_count": 379,
   "id": "dietary-spray",
   "metadata": {},
   "outputs": [],
   "source": [
    "# Create new columns\n",
    "data_total['day'] = data_total['fecha'].dt.day\n",
    "data_total['month'] = data_total['fecha'].dt.month\n",
    "data_total['year'] = data_total['fecha'].dt.year"
   ]
  },
  {
   "cell_type": "code",
   "execution_count": 380,
   "id": "historic-price",
   "metadata": {},
   "outputs": [
    {
     "data": {
      "text/plain": [
       "Index(['fecha', 'rango_horario', 'dia_semana', 'distrito', 'lugar',\n",
       "       'num_calle', 'nº_parte', 'cpfa_granizo', 'cpfa_hielo', 'cpfa_lluvia',\n",
       "       'cpfa_niebla', 'cpfa_seco', 'cpfa_nieve', 'cpsv_mojada', 'cpsv_aceite',\n",
       "       'cpsv_barro', 'cpsv_grava_suelta', 'cpsv_hielo', 'cpsv_seca_y_limpia',\n",
       "       'victimas', 'tipo_accidente', 'tipo_vehiculo', 'tipo_persona', 'sexo',\n",
       "       'lesividad', 'tramo_edad', 'day', 'month', 'year'],\n",
       "      dtype='object')"
      ]
     },
     "execution_count": 380,
     "metadata": {},
     "output_type": "execute_result"
    }
   ],
   "source": [
    "data_total.columns"
   ]
  },
  {
   "cell_type": "markdown",
   "id": "shaped-beijing",
   "metadata": {},
   "source": [
    "**Rearrange the order of the columns**"
   ]
  },
  {
   "cell_type": "code",
   "execution_count": 381,
   "id": "architectural-alabama",
   "metadata": {},
   "outputs": [],
   "source": [
    "# We will change the order of the columns for an easier analysis.\n",
    "data_total= data_total[['fecha','day','dia_semana','month', 'year','rango_horario','distrito', 'lugar',\n",
    "       'num_calle', 'nº_parte','victimas','lesividad','tipo_accidente', 'tipo_vehiculo', 'tipo_persona','sexo',\n",
    "       'tramo_edad', 'cpfa_granizo', 'cpfa_hielo', 'cpfa_lluvia',\n",
    "       'cpfa_niebla', 'cpfa_seco','cpfa_nieve', 'cpsv_mojada', 'cpsv_aceite',\n",
    "       'cpsv_barro', 'cpsv_grava_suelta', 'cpsv_hielo', 'cpsv_seca_y_limpia',\n",
    "        ]]"
   ]
  },
  {
   "cell_type": "code",
   "execution_count": 382,
   "id": "prime-hindu",
   "metadata": {},
   "outputs": [],
   "source": [
    "# data_total.head(50)"
   ]
  },
  {
   "cell_type": "code",
   "execution_count": 383,
   "id": "equivalent-rental",
   "metadata": {},
   "outputs": [],
   "source": [
    "#Change the name of the columns for english speacker understanding\n",
    "data_total.rename(columns={\"fecha\": \"date\", \"dia_semana\": \"week_day\",\"rango_horario\": \"hour\",\"distrito\": \"district\",\"lugar\": \"street\",\"num_calle\": \"num_street\",\"nº_parte\": \"record\",\"victimas\": \"victims\",\n",
    "                   \"lesividad\": \"severity\",\"tipo_accidente\": \"type_accident\",\"tipo_vehiculo\": \"vehicle\",\"victimas\": \"victims\",\"lesividad\": \"severity\",\n",
    "                   \"tipo_accidente\": \"type_accident\",\"tipo_vehiculo\": \"vehicle\",\"tipo_persona\": \"person\",\"sexo\": \"gendre\",\"tramo_edad\": \"age\",\"cpfa_granizo\": \"hail\",\n",
    "                   \"cpfa_hielo\": \"ice\",\"cpfa_lluvia\": \"rain\",\n",
    "                   \"cpfa_niebla\": \"fog\",\"cpfa_seco\": \"dry\",\"cpfa_nieve\": \"r_snow\",\"cpsv_mojada\": \"r_wet\",\"cpsv_aceite\": \"r_oil\",\"cpsv_barro\": \"r_mud\",\n",
    "                   \"cpsv_grava_suelta\": \"r_loose gravel\",\"cpsv_hielo\": \"r_ice\",\"cpsv_seca_y_limpia\": \"r_dryclean\"},inplace=True)"
   ]
  },
  {
   "cell_type": "markdown",
   "id": "moved-pledge",
   "metadata": {},
   "source": [
    "**Let´s check the values of each column**"
   ]
  },
  {
   "cell_type": "code",
   "execution_count": 384,
   "id": "featured-great",
   "metadata": {},
   "outputs": [
    {
     "data": {
      "text/plain": [
       "Index(['date', 'day', 'week_day', 'month', 'year', 'hour', 'district',\n",
       "       'street', 'num_street', 'record', 'victims', 'severity',\n",
       "       'type_accident', 'vehicle', 'person', 'gendre', 'age', 'hail', 'ice',\n",
       "       'rain', 'fog', 'dry', 'r_snow', 'r_wet', 'r_oil', 'r_mud',\n",
       "       'r_loose gravel', 'r_ice', 'r_dryclean'],\n",
       "      dtype='object')"
      ]
     },
     "execution_count": 384,
     "metadata": {},
     "output_type": "execute_result"
    },
    {
     "data": {
      "text/plain": [
       "(252998, 29)"
      ]
     },
     "execution_count": 384,
     "metadata": {},
     "output_type": "execute_result"
    }
   ],
   "source": [
    "data_total.columns\n",
    "data_total.shape"
   ]
  },
  {
   "cell_type": "code",
   "execution_count": 385,
   "id": "indie-amendment",
   "metadata": {},
   "outputs": [
    {
     "data": {
      "text/html": [
       "<div>\n",
       "<style scoped>\n",
       "    .dataframe tbody tr th:only-of-type {\n",
       "        vertical-align: middle;\n",
       "    }\n",
       "\n",
       "    .dataframe tbody tr th {\n",
       "        vertical-align: top;\n",
       "    }\n",
       "\n",
       "    .dataframe thead th {\n",
       "        text-align: right;\n",
       "    }\n",
       "</style>\n",
       "<table border=\"1\" class=\"dataframe\">\n",
       "  <thead>\n",
       "    <tr style=\"text-align: right;\">\n",
       "      <th></th>\n",
       "      <th>date</th>\n",
       "      <th>day</th>\n",
       "      <th>week_day</th>\n",
       "      <th>month</th>\n",
       "      <th>year</th>\n",
       "      <th>hour</th>\n",
       "      <th>district</th>\n",
       "      <th>street</th>\n",
       "      <th>num_street</th>\n",
       "      <th>record</th>\n",
       "      <th>victims</th>\n",
       "      <th>severity</th>\n",
       "      <th>type_accident</th>\n",
       "      <th>vehicle</th>\n",
       "      <th>person</th>\n",
       "      <th>gendre</th>\n",
       "      <th>age</th>\n",
       "      <th>hail</th>\n",
       "      <th>ice</th>\n",
       "      <th>rain</th>\n",
       "      <th>fog</th>\n",
       "      <th>dry</th>\n",
       "      <th>r_snow</th>\n",
       "      <th>r_wet</th>\n",
       "      <th>r_oil</th>\n",
       "      <th>r_mud</th>\n",
       "      <th>r_loose gravel</th>\n",
       "      <th>r_ice</th>\n",
       "      <th>r_dryclean</th>\n",
       "    </tr>\n",
       "  </thead>\n",
       "  <tbody>\n",
       "    <tr>\n",
       "      <th>0</th>\n",
       "      <td>2010-01-01</td>\n",
       "      <td>1</td>\n",
       "      <td>VIERNES</td>\n",
       "      <td>1</td>\n",
       "      <td>2010</td>\n",
       "      <td>DE 00:00 A 00:59</td>\n",
       "      <td>CHAMARTIN</td>\n",
       "      <td>CALLE DE CARTAGENA NUM</td>\n",
       "      <td>104</td>\n",
       "      <td>2010/135</td>\n",
       "      <td>1</td>\n",
       "      <td>IL</td>\n",
       "      <td>COLISIÓN DOBLE</td>\n",
       "      <td>TURISMO</td>\n",
       "      <td>CONDUCTOR</td>\n",
       "      <td>HOMBRE</td>\n",
       "      <td>DE 18 A 20 AÑOS</td>\n",
       "      <td>NO</td>\n",
       "      <td>NO</td>\n",
       "      <td>SI</td>\n",
       "      <td>NO</td>\n",
       "      <td>NO</td>\n",
       "      <td>NO</td>\n",
       "      <td>SI</td>\n",
       "      <td>NO</td>\n",
       "      <td>NO</td>\n",
       "      <td>NO</td>\n",
       "      <td>NO</td>\n",
       "      <td>NO</td>\n",
       "    </tr>\n",
       "    <tr>\n",
       "      <th>1</th>\n",
       "      <td>2010-01-01</td>\n",
       "      <td>1</td>\n",
       "      <td>VIERNES</td>\n",
       "      <td>1</td>\n",
       "      <td>2010</td>\n",
       "      <td>DE 00:00 A 00:59</td>\n",
       "      <td>CHAMARTIN</td>\n",
       "      <td>CALLE DE CARTAGENA NUM</td>\n",
       "      <td>104</td>\n",
       "      <td>2010/135</td>\n",
       "      <td>1</td>\n",
       "      <td>IL</td>\n",
       "      <td>COLISIÓN DOBLE</td>\n",
       "      <td>TURISMO</td>\n",
       "      <td>CONDUCTOR</td>\n",
       "      <td>HOMBRE</td>\n",
       "      <td>DE 50 A 54 AÑOS</td>\n",
       "      <td>NO</td>\n",
       "      <td>NO</td>\n",
       "      <td>SI</td>\n",
       "      <td>NO</td>\n",
       "      <td>NO</td>\n",
       "      <td>NO</td>\n",
       "      <td>SI</td>\n",
       "      <td>NO</td>\n",
       "      <td>NO</td>\n",
       "      <td>NO</td>\n",
       "      <td>NO</td>\n",
       "      <td>NO</td>\n",
       "    </tr>\n",
       "    <tr>\n",
       "      <th>2</th>\n",
       "      <td>2010-01-01</td>\n",
       "      <td>1</td>\n",
       "      <td>VIERNES</td>\n",
       "      <td>1</td>\n",
       "      <td>2010</td>\n",
       "      <td>DE 00:00 A 00:59</td>\n",
       "      <td>CHAMARTIN</td>\n",
       "      <td>CALLE DE CARTAGENA NUM</td>\n",
       "      <td>104</td>\n",
       "      <td>2010/135</td>\n",
       "      <td>1</td>\n",
       "      <td>HL</td>\n",
       "      <td>COLISIÓN DOBLE</td>\n",
       "      <td>TURISMO</td>\n",
       "      <td>VIAJERO</td>\n",
       "      <td>MUJER</td>\n",
       "      <td>DE 40 A 44 AÑOS</td>\n",
       "      <td>NO</td>\n",
       "      <td>NO</td>\n",
       "      <td>SI</td>\n",
       "      <td>NO</td>\n",
       "      <td>NO</td>\n",
       "      <td>NO</td>\n",
       "      <td>SI</td>\n",
       "      <td>NO</td>\n",
       "      <td>NO</td>\n",
       "      <td>NO</td>\n",
       "      <td>NO</td>\n",
       "      <td>NO</td>\n",
       "    </tr>\n",
       "    <tr>\n",
       "      <th>3</th>\n",
       "      <td>2010-01-01</td>\n",
       "      <td>1</td>\n",
       "      <td>VIERNES</td>\n",
       "      <td>1</td>\n",
       "      <td>2010</td>\n",
       "      <td>DE 1:00 A 1:59</td>\n",
       "      <td>PUENTE DE VALLECAS</td>\n",
       "      <td>AUTOVIA  M-30 CALZADA 2 KM.</td>\n",
       "      <td>10200</td>\n",
       "      <td>2010/94</td>\n",
       "      <td>7</td>\n",
       "      <td>HL</td>\n",
       "      <td>COLISIÓN MÚLTIPLE</td>\n",
       "      <td>NO ASIGNADO</td>\n",
       "      <td>VIAJERO</td>\n",
       "      <td>MUJER</td>\n",
       "      <td>DE 25 A 29 AÑOS</td>\n",
       "      <td>NO</td>\n",
       "      <td>NO</td>\n",
       "      <td>NO</td>\n",
       "      <td>NO</td>\n",
       "      <td>SI</td>\n",
       "      <td>NO</td>\n",
       "      <td>SI</td>\n",
       "      <td>NO</td>\n",
       "      <td>NO</td>\n",
       "      <td>NO</td>\n",
       "      <td>NO</td>\n",
       "      <td>NO</td>\n",
       "    </tr>\n",
       "    <tr>\n",
       "      <th>4</th>\n",
       "      <td>2010-01-01</td>\n",
       "      <td>1</td>\n",
       "      <td>VIERNES</td>\n",
       "      <td>1</td>\n",
       "      <td>2010</td>\n",
       "      <td>DE 1:00 A 1:59</td>\n",
       "      <td>PUENTE DE VALLECAS</td>\n",
       "      <td>AUTOVIA  M-30 CALZADA 2 KM.</td>\n",
       "      <td>10200</td>\n",
       "      <td>2010/94</td>\n",
       "      <td>7</td>\n",
       "      <td>HL</td>\n",
       "      <td>COLISIÓN MÚLTIPLE</td>\n",
       "      <td>NO ASIGNADO</td>\n",
       "      <td>VIAJERO</td>\n",
       "      <td>MUJER</td>\n",
       "      <td>DE 30 A 34 ANOS</td>\n",
       "      <td>NO</td>\n",
       "      <td>NO</td>\n",
       "      <td>NO</td>\n",
       "      <td>NO</td>\n",
       "      <td>SI</td>\n",
       "      <td>NO</td>\n",
       "      <td>SI</td>\n",
       "      <td>NO</td>\n",
       "      <td>NO</td>\n",
       "      <td>NO</td>\n",
       "      <td>NO</td>\n",
       "      <td>NO</td>\n",
       "    </tr>\n",
       "  </tbody>\n",
       "</table>\n",
       "</div>"
      ],
      "text/plain": [
       "        date  day week_day  month  year              hour  \\\n",
       "0 2010-01-01    1  VIERNES      1  2010  DE 00:00 A 00:59   \n",
       "1 2010-01-01    1  VIERNES      1  2010  DE 00:00 A 00:59   \n",
       "2 2010-01-01    1  VIERNES      1  2010  DE 00:00 A 00:59   \n",
       "3 2010-01-01    1  VIERNES      1  2010    DE 1:00 A 1:59   \n",
       "4 2010-01-01    1  VIERNES      1  2010    DE 1:00 A 1:59   \n",
       "\n",
       "                         district  \\\n",
       "0  CHAMARTIN                        \n",
       "1  CHAMARTIN                        \n",
       "2  CHAMARTIN                        \n",
       "3  PUENTE DE VALLECAS               \n",
       "4  PUENTE DE VALLECAS               \n",
       "\n",
       "                                                                                                 street  \\\n",
       "0  CALLE DE CARTAGENA NUM                                                                                 \n",
       "1  CALLE DE CARTAGENA NUM                                                                                 \n",
       "2  CALLE DE CARTAGENA NUM                                                                                 \n",
       "3  AUTOVIA  M-30 CALZADA 2 KM.                                                                            \n",
       "4  AUTOVIA  M-30 CALZADA 2 KM.                                                                            \n",
       "\n",
       "  num_street    record  victims                                  severity  \\\n",
       "0        104  2010/135        1  IL                                         \n",
       "1        104  2010/135        1  IL                                         \n",
       "2        104  2010/135        1  HL                                         \n",
       "3      10200   2010/94        7  HL                                         \n",
       "4      10200   2010/94        7  HL                                         \n",
       "\n",
       "                              type_accident  \\\n",
       "0  COLISIÓN DOBLE                             \n",
       "1  COLISIÓN DOBLE                             \n",
       "2  COLISIÓN DOBLE                             \n",
       "3  COLISIÓN MÚLTIPLE                          \n",
       "4  COLISIÓN MÚLTIPLE                          \n",
       "\n",
       "                                    vehicle  \\\n",
       "0  TURISMO                                    \n",
       "1  TURISMO                                    \n",
       "2  TURISMO                                    \n",
       "3                               NO ASIGNADO   \n",
       "4                               NO ASIGNADO   \n",
       "\n",
       "                                     person  gendre              age hail ice  \\\n",
       "0                                 CONDUCTOR  HOMBRE  DE 18 A 20 AÑOS   NO  NO   \n",
       "1                                 CONDUCTOR  HOMBRE  DE 50 A 54 AÑOS   NO  NO   \n",
       "2  VIAJERO                                    MUJER  DE 40 A 44 AÑOS   NO  NO   \n",
       "3  VIAJERO                                    MUJER  DE 25 A 29 AÑOS   NO  NO   \n",
       "4  VIAJERO                                    MUJER  DE 30 A 34 ANOS   NO  NO   \n",
       "\n",
       "  rain fog dry r_snow r_wet r_oil r_mud r_loose gravel r_ice r_dryclean  \n",
       "0   SI  NO  NO     NO    SI    NO    NO             NO    NO         NO  \n",
       "1   SI  NO  NO     NO    SI    NO    NO             NO    NO         NO  \n",
       "2   SI  NO  NO     NO    SI    NO    NO             NO    NO         NO  \n",
       "3   NO  NO  SI     NO    SI    NO    NO             NO    NO         NO  \n",
       "4   NO  NO  SI     NO    SI    NO    NO             NO    NO         NO  "
      ]
     },
     "execution_count": 385,
     "metadata": {},
     "output_type": "execute_result"
    }
   ],
   "source": [
    "data_total.head()"
   ]
  },
  {
   "cell_type": "code",
   "execution_count": 386,
   "id": "printable-export",
   "metadata": {},
   "outputs": [
    {
     "data": {
      "text/plain": [
       "date               3287\n",
       "day                  31\n",
       "week_day              7\n",
       "month                12\n",
       "year                  9\n",
       "hour                 24\n",
       "district             22\n",
       "street            16322\n",
       "num_street          879\n",
       "record            86817\n",
       "victims              19\n",
       "severity              5\n",
       "type_accident        11\n",
       "vehicle              12\n",
       "person                4\n",
       "gendre                3\n",
       "age                  18\n",
       "hail                  2\n",
       "ice                   2\n",
       "rain                  2\n",
       "fog                   2\n",
       "dry                   2\n",
       "r_snow                2\n",
       "r_wet                 2\n",
       "r_oil                 2\n",
       "r_mud                 2\n",
       "r_loose gravel        2\n",
       "r_ice                 2\n",
       "r_dryclean            2\n",
       "dtype: int64"
      ]
     },
     "execution_count": 386,
     "metadata": {},
     "output_type": "execute_result"
    },
    {
     "data": {
      "text/plain": [
       "2013-10-25    212\n",
       "2017-12-21    182\n",
       "2017-11-28    173\n",
       "2017-03-10    170\n",
       "2013-10-11    166\n",
       "             ... \n",
       "2011-01-02     15\n",
       "2010-09-12     13\n",
       "2014-08-31     13\n",
       "2015-08-02     12\n",
       "2011-04-23      7\n",
       "Name: date, Length: 3287, dtype: int64"
      ]
     },
     "execution_count": 386,
     "metadata": {},
     "output_type": "execute_result"
    },
    {
     "data": {
      "text/plain": [
       "19    8810\n",
       "4     8718\n",
       "21    8687\n",
       "20    8656\n",
       "18    8605\n",
       "11    8586\n",
       "23    8552\n",
       "14    8520\n",
       "13    8517\n",
       "5     8451\n",
       "6     8357\n",
       "16    8354\n",
       "3     8306\n",
       "24    8257\n",
       "10    8236\n",
       "17    8232\n",
       "12    8222\n",
       "9     8197\n",
       "28    8193\n",
       "22    8172\n",
       "26    8120\n",
       "27    8120\n",
       "1     8091\n",
       "7     8061\n",
       "8     8004\n",
       "25    7990\n",
       "29    7882\n",
       "2     7877\n",
       "15    7871\n",
       "30    7862\n",
       "31    4492\n",
       "Name: day, dtype: int64"
      ]
     },
     "execution_count": 386,
     "metadata": {},
     "output_type": "execute_result"
    },
    {
     "data": {
      "text/plain": [
       "VIERNES      43452\n",
       "JUEVES       38794\n",
       "MIERCOLES    38697\n",
       "MARTES       37707\n",
       "LUNES        36301\n",
       "SABADO       30798\n",
       "DOMINGO      27249\n",
       "Name: week_day, dtype: int64"
      ]
     },
     "execution_count": 386,
     "metadata": {},
     "output_type": "execute_result"
    },
    {
     "data": {
      "text/plain": [
       "10    24491\n",
       "11    23418\n",
       "6     23212\n",
       "12    22880\n",
       "5     22495\n",
       "9     21282\n",
       "3     21025\n",
       "7     20405\n",
       "2     20194\n",
       "4     20023\n",
       "1     19703\n",
       "8     13870\n",
       "Name: month, dtype: int64"
      ]
     },
     "execution_count": 386,
     "metadata": {},
     "output_type": "execute_result"
    },
    {
     "data": {
      "text/plain": [
       "2018    30122\n",
       "2017    29795\n",
       "2016    29201\n",
       "2015    28172\n",
       "2014    27967\n",
       "2011    27342\n",
       "2012    26982\n",
       "2013    26839\n",
       "2010    26578\n",
       "Name: year, dtype: int64"
      ]
     },
     "execution_count": 386,
     "metadata": {},
     "output_type": "execute_result"
    },
    {
     "data": {
      "text/plain": [
       "DE 14:00 A 14:59    18232\n",
       "DE 19:00 A 19:59    18049\n",
       "DE 20:00 A 20:59    17244\n",
       "DE 18:00 A 18:59    16259\n",
       "DE 13:00 A 13:59    15921\n",
       "DE 15:00 A 15:59    14557\n",
       "DE 12:00 A 12:59    14473\n",
       "DE 9:00 A 9:59      14348\n",
       "DE 17:00 A 17:59    14137\n",
       "DE 21:00 A 21:59    14113\n",
       "DE 16:00 A 16:59    13590\n",
       "DE 11:00 A 11:59    12492\n",
       "DE 8:00 A 8:59      11759\n",
       "DE 10:00 A 10:59    11561\n",
       "DE 22:00 A 22:59    10758\n",
       "DE 23:00 A 23:59     7191\n",
       "DE 7:00 A 7:59       6428\n",
       "DE 00:00 A 00:59     4729\n",
       "DE 6:00 A 6:59       3992\n",
       "DE 1:00 A 1:59       3602\n",
       "DE 2:00 A 2:59       2776\n",
       "DE 3:00 A 3:59       2431\n",
       "DE 5:00 A 5:59       2225\n",
       "DE 4:00 A 4:59       2131\n",
       "Name: hour, dtype: int64"
      ]
     },
     "execution_count": 386,
     "metadata": {},
     "output_type": "execute_result"
    },
    {
     "data": {
      "text/plain": [
       "SALAMANCA                         19269\n",
       "CHAMARTIN                         18857\n",
       "CENTRO                            17717\n",
       "CIUDAD LINEAL                     16580\n",
       "PUENTE DE VALLECAS                16180\n",
       "CARABANCHEL                       15593\n",
       "CHAMBERI                          14466\n",
       "FUENCARRAL-EL PARDO               13750\n",
       "RETIRO                            13665\n",
       "TETUAN                            13626\n",
       "MONCLOA-ARAVACA                   13587\n",
       "ARGANZUELA                        13050\n",
       "LATINA                            12218\n",
       "SAN BLAS                          11987\n",
       "USERA                              8808\n",
       "HORTALEZA                          8546\n",
       "VILLAVERDE                         6708\n",
       "MORATALAZ                          6246\n",
       "VILLA DE VALLECAS                  5059\n",
       "BARAJAS                            3402\n",
       "VICALVARO                          3142\n",
       "VILLA DE VALLECAS                   542\n",
       "Name: district, dtype: int64"
      ]
     },
     "execution_count": 386,
     "metadata": {},
     "output_type": "execute_result"
    },
    {
     "data": {
      "text/plain": [
       "AUTOVIA  M-30 CALZADA 1 KM.                                                                             7798\n",
       "AUTOVIA  M-30 CALZADA 2 KM.                                                                             5779\n",
       "PASEO DE LA CASTELLANA NUM                                                                              5022\n",
       "CALLE DE ALCALA NUM                                                                                     3790\n",
       "CALLE DE BRAVO MURILLO NUM                                                                              1607\n",
       "                                                                                                        ... \n",
       "CALLE DE LA MENTA - CALLE DEL ARROYO DE POZUELO                                                            1\n",
       "CALLE DE MARTINEZ DE LA RIVA - CALLE DE GARCIA MIRANDA                                                     1\n",
       "AVENIDA DE PUERTA DE HIERRO - CARRETERA DE PARDO A FUENCARRAL                                              1\n",
       "CAMINO DE VALDECERVERO                                                                                     1\n",
       "CALLE DE PIO BAROJA - PLAZA DEL DOCTOR LAGUNA                                                              1\n",
       "Name: street, Length: 16322, dtype: int64"
      ]
     },
     "execution_count": 386,
     "metadata": {},
     "output_type": "execute_result"
    },
    {
     "data": {
      "text/plain": [
       "0             120977\n",
       "1               7012\n",
       "2               4784\n",
       "                3727\n",
       "3               3544\n",
       "               ...  \n",
       "53200              1\n",
       "50400              1\n",
       "25900              1\n",
       "612                1\n",
       "670                1\n",
       "Name: num_street, Length: 879, dtype: int64"
      ]
     },
     "execution_count": 386,
     "metadata": {},
     "output_type": "execute_result"
    },
    {
     "data": {
      "text/plain": [
       "2012/11769    27\n",
       "2018/2669     22\n",
       "2011/4407     22\n",
       "2010/5878     21\n",
       "2017/9166     20\n",
       "              ..\n",
       "2017/6448      1\n",
       "2013/6917      1\n",
       "2014/988       1\n",
       "2013/4312      1\n",
       "2015/2728      1\n",
       "Name: record, Length: 86817, dtype: int64"
      ]
     },
     "execution_count": 386,
     "metadata": {},
     "output_type": "execute_result"
    },
    {
     "data": {
      "text/plain": [
       "1     183618\n",
       "2      43631\n",
       "3      14168\n",
       "4       6165\n",
       "5       2712\n",
       "6       1116\n",
       "7        755\n",
       "8        270\n",
       "9        139\n",
       "10       120\n",
       "11        56\n",
       "13        46\n",
       "19        42\n",
       "18        41\n",
       "14        33\n",
       "12        28\n",
       "22        22\n",
       "16        19\n",
       "15        17\n",
       "Name: victims, dtype: int64"
      ]
     },
     "execution_count": 386,
     "metadata": {},
     "output_type": "execute_result"
    },
    {
     "data": {
      "text/plain": [
       "IL                                          130053\n",
       "HL                                          102716\n",
       "NO ASIGNADA                                  11104\n",
       "HG                                            8850\n",
       "MT                                             275\n",
       "Name: severity, dtype: int64"
      ]
     },
     "execution_count": 386,
     "metadata": {},
     "output_type": "execute_result"
    },
    {
     "data": {
      "text/plain": [
       "COLISIÓN DOBLE                              145544\n",
       "ATROPELLO                                    41398\n",
       "COLISIÓN MÚLTIPLE                            29195\n",
       "CAÍDA MOTOCICLETA                            14155\n",
       "CHOQUE CON OBJETO FIJO                       12595\n",
       "CAÍDA VIAJERO BUS                             2794\n",
       "CAÍDA BICICLETA                               2616\n",
       "CAÍDA CICLOMOTOR                              2536\n",
       "VUELCO                                        1135\n",
       "OTRAS CAUSAS                                  1011\n",
       "CAÍDA VEHÍCULO 3 RUEDAS                         19\n",
       "Name: type_accident, dtype: int64"
      ]
     },
     "execution_count": 386,
     "metadata": {},
     "output_type": "execute_result"
    },
    {
     "data": {
      "text/plain": [
       "TURISMO                                     131483\n",
       "NO ASIGNADO                                  46852\n",
       "MOTOCICLETA                                  32742\n",
       "FURGONETA                                     9873\n",
       "AUTO-TAXI                                     8311\n",
       "AUTOBUS-AUTOCAR                               7017\n",
       "CICLOMOTOR                                    6045\n",
       "BICICLETA                                     5524\n",
       "CAMION                                        2499\n",
       "VARIOS                                        2117\n",
       "AMBULANCIA                                     492\n",
       "VEH.3 RUEDAS                                    43\n",
       "Name: vehicle, dtype: int64"
      ]
     },
     "execution_count": 386,
     "metadata": {},
     "output_type": "execute_result"
    },
    {
     "data": {
      "text/plain": [
       "CONDUCTOR                                   158734\n",
       "VIAJERO                                      47480\n",
       "TESTIGO                                      31666\n",
       "PEATON                                       15118\n",
       "Name: person, dtype: int64"
      ]
     },
     "execution_count": 386,
     "metadata": {},
     "output_type": "execute_result"
    },
    {
     "data": {
      "text/plain": [
       "HOMBRE         160165\n",
       "MUJER           80717\n",
       "NO ASIGNADO     12116\n",
       "Name: gendre, dtype: int64"
      ]
     },
     "execution_count": 386,
     "metadata": {},
     "output_type": "execute_result"
    },
    {
     "data": {
      "text/plain": [
       "DE 30 A 34 ANOS       31110\n",
       "DE 35 A 39 AÑOS       30169\n",
       "DE 25 A 29 AÑOS       29797\n",
       "DE 40 A 44 AÑOS       26421\n",
       "DE 45 A 49 AÑOS       22167\n",
       "DESCONOCIDA           19724\n",
       "DE 21 A 24 AÑOS       19532\n",
       "DE 50 A 54 AÑOS       17999\n",
       "DE 55 A 59 AÑOS       12454\n",
       "DE 18 A 20 AÑOS        9304\n",
       "DE 60 A 64 AÑOS        8362\n",
       "DE MAS DE 74 AÑOS      6361\n",
       "DE 65 A 69 AÑOS        5097\n",
       "DE 70 A 74 AÑOS        3656\n",
       "DE 0 A 5 AÑOS          3128\n",
       "DE 10 A 14 AÑOS        2804\n",
       "DE 15 A 17 AÑOS        2593\n",
       "DE 6 A 9 AÑOS          2320\n",
       "Name: age, dtype: int64"
      ]
     },
     "execution_count": 386,
     "metadata": {},
     "output_type": "execute_result"
    },
    {
     "data": {
      "text/plain": [
       "NO    252964\n",
       "SI        34\n",
       "Name: hail, dtype: int64"
      ]
     },
     "execution_count": 386,
     "metadata": {},
     "output_type": "execute_result"
    },
    {
     "data": {
      "text/plain": [
       "NO    252788\n",
       "SI       210\n",
       "Name: ice, dtype: int64"
      ]
     },
     "execution_count": 386,
     "metadata": {},
     "output_type": "execute_result"
    },
    {
     "data": {
      "text/plain": [
       "NO    224626\n",
       "SI     28372\n",
       "Name: rain, dtype: int64"
      ]
     },
     "execution_count": 386,
     "metadata": {},
     "output_type": "execute_result"
    },
    {
     "data": {
      "text/plain": [
       "NO    252410\n",
       "SI       588\n",
       "Name: fog, dtype: int64"
      ]
     },
     "execution_count": 386,
     "metadata": {},
     "output_type": "execute_result"
    },
    {
     "data": {
      "text/plain": [
       "SI    223743\n",
       "NO     29255\n",
       "Name: dry, dtype: int64"
      ]
     },
     "execution_count": 386,
     "metadata": {},
     "output_type": "execute_result"
    },
    {
     "data": {
      "text/plain": [
       "NO    252645\n",
       "SI       353\n",
       "Name: r_snow, dtype: int64"
      ]
     },
     "execution_count": 386,
     "metadata": {},
     "output_type": "execute_result"
    },
    {
     "data": {
      "text/plain": [
       "NO    220421\n",
       "SI     32577\n",
       "Name: r_wet, dtype: int64"
      ]
     },
     "execution_count": 386,
     "metadata": {},
     "output_type": "execute_result"
    },
    {
     "data": {
      "text/plain": [
       "NO    252438\n",
       "SI       560\n",
       "Name: r_oil, dtype: int64"
      ]
     },
     "execution_count": 386,
     "metadata": {},
     "output_type": "execute_result"
    },
    {
     "data": {
      "text/plain": [
       "NO    252794\n",
       "SI       204\n",
       "Name: r_mud, dtype: int64"
      ]
     },
     "execution_count": 386,
     "metadata": {},
     "output_type": "execute_result"
    },
    {
     "data": {
      "text/plain": [
       "NO    252378\n",
       "SI       620\n",
       "Name: r_loose gravel, dtype: int64"
      ]
     },
     "execution_count": 386,
     "metadata": {},
     "output_type": "execute_result"
    },
    {
     "data": {
      "text/plain": [
       "NO    252639\n",
       "SI       359\n",
       "Name: r_ice, dtype: int64"
      ]
     },
     "execution_count": 386,
     "metadata": {},
     "output_type": "execute_result"
    },
    {
     "data": {
      "text/plain": [
       "SI    218222\n",
       "NO     34776\n",
       "Name: r_dryclean, dtype: int64"
      ]
     },
     "execution_count": 386,
     "metadata": {},
     "output_type": "execute_result"
    }
   ],
   "source": [
    " #checking the unique and description of the values in the data set\n",
    "data_total.nunique()\n",
    "for x in data_total:\n",
    "     data_total[x].value_counts()"
   ]
  },
  {
   "cell_type": "markdown",
   "id": "binary-louisville",
   "metadata": {},
   "source": [
    "**QUESTIONS WE NEED TO  ANSWER**:\n",
    "\n",
    "- How many police records and  accidents are there in total?\n",
    "\n",
    "- How many victims are there in total? What about the severity?\n",
    "\n",
    "- Which is the max number of victims implicated in an accident? Wich is the most common number the victims per accident? \n",
    "\n",
    "- How many victims are there per Type of Accident?\n",
    "\n",
    "- How many victims are ther per Year/Month/day week/ hour? \n",
    "\n",
    "- How many victims are per district?"
   ]
  },
  {
   "cell_type": "markdown",
   "id": "preliminary-oxygen",
   "metadata": {},
   "source": [
    "1- **Total number of police records and accidents**"
   ]
  },
  {
   "cell_type": "code",
   "execution_count": 387,
   "id": "controlling-damage",
   "metadata": {},
   "outputs": [
    {
     "name": "stdout",
     "output_type": "stream",
     "text": [
      "The total number of police record is 252998\n"
     ]
    }
   ],
   "source": [
    "print('The total number of police record is',len(data_total))"
   ]
  },
  {
   "cell_type": "code",
   "execution_count": 388,
   "id": "wooden-broadcast",
   "metadata": {},
   "outputs": [
    {
     "name": "stdout",
     "output_type": "stream",
     "text": [
      "Total unique accidents 86817 in Madrid from 2010 to 2018\n"
     ]
    }
   ],
   "source": [
    "#Total accidents: a unique nº _parte represent a unique accident.\n",
    "print('Total unique accidents',data_total['record'].nunique(), 'in Madrid from 2010 to 2018')\n",
    "# There were 86.817 accidents in the city of Madrid from 2018 to 2021"
   ]
  },
  {
   "cell_type": "markdown",
   "id": "neutral-estimate",
   "metadata": {},
   "source": [
    "2- **How many victims are there in total? What about the severity?**"
   ]
  },
  {
   "cell_type": "markdown",
   "id": "abroad-tennis",
   "metadata": {},
   "source": [
    "**TYPE OF VICTIMS** according to the severity. \n",
    "\n",
    "The column LESIVIDAD It is an indicator of the severity of the accident according to the victims personal injuries:\n",
    "\n",
    "- IL: Not injured\n",
    "- HL: slightly injured\n",
    "- HG: seriously injured\n",
    "- MT: mortal\n",
    "- NO ASIGNADA: unknown\n",
    "\n",
    "For our analysis is interesanting only focusing on the accidents with victims. \n",
    "Thus, we won´t take into account the not assigned or not injured victims"
   ]
  },
  {
   "cell_type": "code",
   "execution_count": 389,
   "id": "multiple-minute",
   "metadata": {},
   "outputs": [],
   "source": [
    "#We create a new df by dropping the rows with values 'IL' or 'NO ASIGNADO' in the 'Victimas' columns.\n",
    "#Thus, we have the data of accidents and victims injured."
   ]
  },
  {
   "cell_type": "code",
   "execution_count": 390,
   "id": "critical-bosnia",
   "metadata": {},
   "outputs": [],
   "source": [
    "# data = data_total.loc[(data_total['lesividad']!='NO ASIGNADA') & (data_total['lesividad']!='IL')]\n",
    "data=data_total[(data_total['severity']!='NO ASIGNADA')]"
   ]
  },
  {
   "cell_type": "code",
   "execution_count": 391,
   "id": "typical-attendance",
   "metadata": {},
   "outputs": [
    {
     "data": {
      "text/plain": [
       "IL                                          130053\n",
       "HL                                          102716\n",
       "HG                                            8850\n",
       "MT                                             275\n",
       "Name: severity, dtype: int64"
      ]
     },
     "execution_count": 391,
     "metadata": {},
     "output_type": "execute_result"
    }
   ],
   "source": [
    "data['severity'].value_counts()"
   ]
  },
  {
   "cell_type": "code",
   "execution_count": 392,
   "id": "temporal-chemistry",
   "metadata": {},
   "outputs": [],
   "source": [
    "# data.reset_index(drop=True, inplace=True)"
   ]
  },
  {
   "cell_type": "code",
   "execution_count": 393,
   "id": "domestic-environment",
   "metadata": {},
   "outputs": [],
   "source": [
    "def clean_severity(x):\n",
    "    if 'IL'in x:\n",
    "        return 'not injuried'\n",
    "    elif 'HL'in x:\n",
    "        return 'slightly injured'\n",
    "    elif 'HG' in x:\n",
    "        return 'seriously injured'\n",
    "    elif 'MT'in x: \n",
    "        return 'mortal'\n"
   ]
  },
  {
   "cell_type": "code",
   "execution_count": 394,
   "id": "sweet-preference",
   "metadata": {},
   "outputs": [
    {
     "data": {
      "text/plain": [
       "not injuried         130053\n",
       "slightly injured     102716\n",
       "seriously injured      8850\n",
       "mortal                  275\n",
       "Name: severity, dtype: int64"
      ]
     },
     "execution_count": 394,
     "metadata": {},
     "output_type": "execute_result"
    }
   ],
   "source": [
    "data['severity']= data['severity'].apply (clean_severity)\n",
    "data['severity'].value_counts()"
   ]
  },
  {
   "cell_type": "code",
   "execution_count": 395,
   "id": "cutting-rally",
   "metadata": {},
   "outputs": [],
   "source": [
    "data=data[(data['severity']!='not injuried')]"
   ]
  },
  {
   "cell_type": "code",
   "execution_count": 396,
   "id": "latest-swift",
   "metadata": {},
   "outputs": [
    {
     "data": {
      "text/plain": [
       "slightly injured     102716\n",
       "seriously injured      8850\n",
       "mortal                  275\n",
       "Name: severity, dtype: int64"
      ]
     },
     "execution_count": 396,
     "metadata": {},
     "output_type": "execute_result"
    }
   ],
   "source": [
    "data['severity'].value_counts()"
   ]
  },
  {
   "cell_type": "code",
   "execution_count": 397,
   "id": "beginning-minister",
   "metadata": {},
   "outputs": [
    {
     "data": {
      "text/plain": [
       "slightly injured     102716\n",
       "seriously injured      8850\n",
       "mortal                  275\n",
       "Name: severity, dtype: int64"
      ]
     },
     "execution_count": 397,
     "metadata": {},
     "output_type": "execute_result"
    }
   ],
   "source": [
    "#What about the severity of the victims?\n",
    "data['severity'].value_counts()"
   ]
  },
  {
   "cell_type": "markdown",
   "id": "outer-treasury",
   "metadata": {},
   "source": [
    "Now, we have our data without without the no victims (data), thus we continue to analyse only accidents with injured victims."
   ]
  },
  {
   "cell_type": "markdown",
   "id": "regional-senegal",
   "metadata": {},
   "source": [
    "But before, there are other columns values that need to be clean.We will clean some columns and translate all of them to english."
   ]
  },
  {
   "cell_type": "code",
   "execution_count": 398,
   "id": "referenced-simon",
   "metadata": {},
   "outputs": [
    {
     "data": {
      "text/plain": [
       "0"
      ]
     },
     "execution_count": 398,
     "metadata": {},
     "output_type": "execute_result"
    }
   ],
   "source": [
    "data['type_accident'].isnull().sum()"
   ]
  },
  {
   "cell_type": "code",
   "execution_count": 399,
   "id": "liable-centre",
   "metadata": {},
   "outputs": [
    {
     "data": {
      "text/plain": [
       "COLISIÓN DOBLE                              63684\n",
       "ATROPELLO                                   15363\n",
       "COLISIÓN MÚLTIPLE                           11635\n",
       "CAÍDA MOTOCICLETA                            8752\n",
       "CHOQUE CON OBJETO FIJO                       6473\n",
       "CAÍDA BICICLETA                              1795\n",
       "CAÍDA CICLOMOTOR                             1718\n",
       "CAÍDA VIAJERO BUS                            1219\n",
       "VUELCO                                        764\n",
       "OTRAS CAUSAS                                  430\n",
       "CAÍDA VEHÍCULO 3 RUEDAS                         8\n",
       "Name: type_accident, dtype: int64"
      ]
     },
     "execution_count": 399,
     "metadata": {},
     "output_type": "execute_result"
    }
   ],
   "source": [
    "data['type_accident'].value_counts()"
   ]
  },
  {
   "cell_type": "code",
   "execution_count": 400,
   "id": "thrown-company",
   "metadata": {},
   "outputs": [],
   "source": [
    "def clean_type_accident(x):\n",
    "    if 'COLISIÓN DOBLE'in x:\n",
    "        return 'double_colision'\n",
    "    elif 'ATROPELLO'in x:\n",
    "        return 'run_over'\n",
    "    elif 'COLISIÓN MÚLTIPLE' in x:\n",
    "        return 'multiple_colision'\n",
    "    elif 'CAÍDA MOTOCICLETA'in x:\n",
    "        return 'motorcycle_fall'\n",
    "    elif 'CHOQUE CON OBJETO FIJO' in x:\n",
    "        return 'object'\n",
    "    elif 'CAÍDA BICICLETA'in x: \n",
    "        return 'bike_fall'\n",
    "    elif 'CAÍDA VIAJERO BUS'in x: \n",
    "        return 'other'\n",
    "    elif 'VUELCO'in x: \n",
    "        return 'other'\n",
    "    elif 'OTRAS CAUSAS'in x: \n",
    "        return 'other'\n",
    "    elif 'CAÍDA VEHÍCULO 3 RUEDAS'in x: \n",
    "        return 'other'\n",
    "    else:\n",
    "        return 'other'"
   ]
  },
  {
   "cell_type": "code",
   "execution_count": 401,
   "id": "neutral-infrastructure",
   "metadata": {},
   "outputs": [
    {
     "data": {
      "text/plain": [
       "Index(['date', 'day', 'week_day', 'month', 'year', 'hour', 'district',\n",
       "       'street', 'num_street', 'record', 'victims', 'severity',\n",
       "       'type_accident', 'vehicle', 'person', 'gendre', 'age', 'hail', 'ice',\n",
       "       'rain', 'fog', 'dry', 'r_snow', 'r_wet', 'r_oil', 'r_mud',\n",
       "       'r_loose gravel', 'r_ice', 'r_dryclean'],\n",
       "      dtype='object')"
      ]
     },
     "execution_count": 401,
     "metadata": {},
     "output_type": "execute_result"
    }
   ],
   "source": [
    "data.columns"
   ]
  },
  {
   "cell_type": "code",
   "execution_count": 402,
   "id": "reverse-ethiopia",
   "metadata": {},
   "outputs": [],
   "source": [
    "data['type_accident']= data['type_accident'].apply (clean_type_accident)"
   ]
  },
  {
   "cell_type": "code",
   "execution_count": 403,
   "id": "artificial-procurement",
   "metadata": {},
   "outputs": [
    {
     "data": {
      "text/plain": [
       "double_colision      63684\n",
       "run_over             15363\n",
       "multiple_colision    11635\n",
       "motorcycle_fall       8752\n",
       "object                6473\n",
       "other                 4139\n",
       "bike_fall             1795\n",
       "Name: type_accident, dtype: int64"
      ]
     },
     "execution_count": 403,
     "metadata": {},
     "output_type": "execute_result"
    }
   ],
   "source": [
    "data['type_accident'].value_counts()"
   ]
  },
  {
   "cell_type": "code",
   "execution_count": 404,
   "id": "baking-jaguar",
   "metadata": {},
   "outputs": [
    {
     "data": {
      "text/plain": [
       "0"
      ]
     },
     "execution_count": 404,
     "metadata": {},
     "output_type": "execute_result"
    }
   ],
   "source": [
    "data['type_accident'].isnull().sum()"
   ]
  },
  {
   "cell_type": "code",
   "execution_count": 405,
   "id": "assured-content",
   "metadata": {},
   "outputs": [],
   "source": [
    "def clean_person(x):\n",
    "    if 'CONDUCTOR'in x:\n",
    "        return 'driver'\n",
    "    elif 'VIAJERO'in x:\n",
    "        return 'traveler'\n",
    "    elif 'PEATON' in x:\n",
    "        return 'pedestrian'"
   ]
  },
  {
   "cell_type": "code",
   "execution_count": 406,
   "id": "grateful-prayer",
   "metadata": {},
   "outputs": [],
   "source": [
    "data['person']= data['person'].apply (clean_person)"
   ]
  },
  {
   "cell_type": "code",
   "execution_count": 407,
   "id": "compact-style",
   "metadata": {},
   "outputs": [
    {
     "data": {
      "text/plain": [
       "driver        71210\n",
       "traveler      25827\n",
       "pedestrian    14804\n",
       "Name: person, dtype: int64"
      ]
     },
     "execution_count": 407,
     "metadata": {},
     "output_type": "execute_result"
    }
   ],
   "source": [
    "data['person'].value_counts()"
   ]
  },
  {
   "cell_type": "code",
   "execution_count": 408,
   "id": "amended-membrane",
   "metadata": {},
   "outputs": [],
   "source": [
    "atropello= data[data['type_accident']==\"run_over\"]"
   ]
  },
  {
   "cell_type": "code",
   "execution_count": 409,
   "id": "numeric-journey",
   "metadata": {},
   "outputs": [
    {
     "data": {
      "text/plain": [
       "NO ASIGNADO                                 14260\n",
       "MOTOCICLETA                                   520\n",
       "BICICLETA                                     198\n",
       "TURISMO                                       178\n",
       "CICLOMOTOR                                     97\n",
       "AUTOBUS-AUTOCAR                                66\n",
       "VARIOS                                         15\n",
       "FURGONETA                                      12\n",
       "AUTO-TAXI                                      10\n",
       "CAMION                                          4\n",
       "VEH.3 RUEDAS                                    2\n",
       "AMBULANCIA                                      1\n",
       "Name: vehicle, dtype: int64"
      ]
     },
     "execution_count": 409,
     "metadata": {},
     "output_type": "execute_result"
    }
   ],
   "source": [
    "# pedestrian.head()\n",
    "atropello['vehicle'].value_counts()"
   ]
  },
  {
   "cell_type": "code",
   "execution_count": 410,
   "id": "prepared-battle",
   "metadata": {},
   "outputs": [
    {
     "data": {
      "text/plain": [
       "(14273, 29)"
      ]
     },
     "execution_count": 410,
     "metadata": {},
     "output_type": "execute_result"
    }
   ],
   "source": [
    "pedestrian = atropello[atropello['person']=='pedestrian']\n",
    "pedestrian.shape"
   ]
  },
  {
   "cell_type": "code",
   "execution_count": 411,
   "id": "yellow-guarantee",
   "metadata": {},
   "outputs": [
    {
     "data": {
      "text/plain": [
       "NO ASIGNADO                                 14258\n",
       "TURISMO                                         9\n",
       "VARIOS                                          5\n",
       "FURGONETA                                       1\n",
       "Name: vehicle, dtype: int64"
      ]
     },
     "execution_count": 411,
     "metadata": {},
     "output_type": "execute_result"
    }
   ],
   "source": [
    "# pedestrian.head()\n",
    "pedestrian['vehicle'].value_counts()"
   ]
  },
  {
   "cell_type": "code",
   "execution_count": 412,
   "id": "naval-butterfly",
   "metadata": {},
   "outputs": [],
   "source": [
    "def clean_vehicle(x):\n",
    "    if 'TURISMO'in x:\n",
    "        return 'car'\n",
    "    elif 'NO ASIGNADO'in x:\n",
    "        return 'pedestrian'\n",
    "    elif 'MOTO' in x:\n",
    "        return 'moto'\n",
    "    elif 'FURGONETA'in x: \n",
    "        return 'van'\n",
    "    elif 'AUTO-TAXI'in x:\n",
    "        return 'car'\n",
    "    elif 'AUTOBUS-AUTOCAR' in x:\n",
    "        return 'bus'\n",
    "    elif 'CICLOMOTOR'in x: \n",
    "        return 'moto'\n",
    "    elif 'BICICLETA'in x: \n",
    "        return 'bike'\n",
    "    elif 'CAMION'in x: \n",
    "        return 'truck'\n",
    "    elif 'VARIOS'in x: \n",
    "        return 'others'\n",
    "    elif 'AMBULANCIA'in x: \n",
    "        return 'others'\n",
    "    elif 'VEH.3 RUEDAS'in x: \n",
    "        return 'others'"
   ]
  },
  {
   "cell_type": "code",
   "execution_count": 413,
   "id": "three-surrey",
   "metadata": {},
   "outputs": [],
   "source": [
    "data['vehicle']= data['vehicle'].apply (clean_vehicle)"
   ]
  },
  {
   "cell_type": "code",
   "execution_count": 414,
   "id": "following-sessions",
   "metadata": {},
   "outputs": [
    {
     "data": {
      "text/plain": [
       "car           49046\n",
       "moto          35778\n",
       "pedestrian    14882\n",
       "bike           4948\n",
       "bus            3209\n",
       "van            2559\n",
       "others         1040\n",
       "truck           379\n",
       "Name: vehicle, dtype: int64"
      ]
     },
     "execution_count": 414,
     "metadata": {},
     "output_type": "execute_result"
    }
   ],
   "source": [
    "data['vehicle'].value_counts()"
   ]
  },
  {
   "cell_type": "code",
   "execution_count": 415,
   "id": "vocational-discretion",
   "metadata": {},
   "outputs": [],
   "source": [
    "data['month'] = data['month'].astype(str)"
   ]
  },
  {
   "cell_type": "code",
   "execution_count": 416,
   "id": "unnecessary-passing",
   "metadata": {},
   "outputs": [
    {
     "data": {
      "text/plain": [
       "10    10828\n",
       "11    10370\n",
       "6     10176\n",
       "12     9963\n",
       "5      9869\n",
       "9      9541\n",
       "3      9291\n",
       "7      9092\n",
       "2      8900\n",
       "4      8816\n",
       "1      8721\n",
       "8      6274\n",
       "Name: month, dtype: int64"
      ]
     },
     "execution_count": 416,
     "metadata": {},
     "output_type": "execute_result"
    }
   ],
   "source": [
    "data['month'].value_counts()"
   ]
  },
  {
   "cell_type": "code",
   "execution_count": 417,
   "id": "aging-mirror",
   "metadata": {},
   "outputs": [],
   "source": [
    "def clean_month(x):\n",
    "    if  x == '1':\n",
    "        return 'Jan'\n",
    "    elif x== '2':\n",
    "        return 'Feb'\n",
    "    elif '3' in x:\n",
    "        return 'March'\n",
    "    elif '4'in x: \n",
    "        return 'April'\n",
    "    elif '5'in x:\n",
    "        return 'May'\n",
    "    elif '6' in x:\n",
    "        return 'June'\n",
    "    elif '7'in x: \n",
    "        return 'July'\n",
    "    elif '8'in x: \n",
    "        return 'August'\n",
    "    elif '9'in x: \n",
    "        return 'Sept'\n",
    "    elif x=='10': \n",
    "        return 'Oct'\n",
    "    elif x== '11': \n",
    "        return 'Nov'\n",
    "    elif x== '12': \n",
    "        return 'Dec'"
   ]
  },
  {
   "cell_type": "code",
   "execution_count": null,
   "id": "impressive-print",
   "metadata": {},
   "outputs": [],
   "source": []
  },
  {
   "cell_type": "code",
   "execution_count": 418,
   "id": "underlying-constant",
   "metadata": {},
   "outputs": [],
   "source": [
    "data['month']= data['month'].apply (clean_month)"
   ]
  },
  {
   "cell_type": "code",
   "execution_count": 419,
   "id": "loaded-cradle",
   "metadata": {},
   "outputs": [
    {
     "data": {
      "text/plain": [
       "Oct       10828\n",
       "Nov       10370\n",
       "June      10176\n",
       "Dec        9963\n",
       "May        9869\n",
       "Sept       9541\n",
       "March      9291\n",
       "July       9092\n",
       "Feb        8900\n",
       "April      8816\n",
       "Jan        8721\n",
       "August     6274\n",
       "Name: month, dtype: int64"
      ]
     },
     "execution_count": 419,
     "metadata": {},
     "output_type": "execute_result"
    }
   ],
   "source": [
    "data['month'].value_counts()"
   ]
  },
  {
   "cell_type": "code",
   "execution_count": 420,
   "id": "unlimited-colors",
   "metadata": {},
   "outputs": [],
   "source": [
    "def clean_weekday(x):\n",
    "    if 'LUNES'in x:\n",
    "        return 'Mon'\n",
    "    elif 'MARTES'in x:\n",
    "        return 'Tuesday'\n",
    "    elif 'MIERCOLES' in x:\n",
    "        return 'Wednesday'\n",
    "    elif 'JUEVES'in x: \n",
    "        return 'Thursday'\n",
    "    elif 'VIERNES'in x:\n",
    "        return 'Friday'\n",
    "    elif 'SABADO' in x:\n",
    "        return 'Saturday'\n",
    "    elif 'DOMINGO'in x: \n",
    "        return 'Sunday'    "
   ]
  },
  {
   "cell_type": "code",
   "execution_count": 421,
   "id": "proved-national",
   "metadata": {},
   "outputs": [],
   "source": [
    "data['week_day']= data['week_day'].apply (clean_weekday)"
   ]
  },
  {
   "cell_type": "code",
   "execution_count": 422,
   "id": "applied-given",
   "metadata": {},
   "outputs": [
    {
     "data": {
      "text/plain": [
       "Friday       19083\n",
       "Wednesday    17240\n",
       "Thursday     17038\n",
       "Tuesday      16781\n",
       "Mon          16327\n",
       "Saturday     13401\n",
       "Sunday       11971\n",
       "Name: week_day, dtype: int64"
      ]
     },
     "execution_count": 422,
     "metadata": {},
     "output_type": "execute_result"
    }
   ],
   "source": [
    "data['week_day'].value_counts()"
   ]
  },
  {
   "cell_type": "code",
   "execution_count": 423,
   "id": "impressed-treasury",
   "metadata": {},
   "outputs": [],
   "source": [
    "def clean_gendre(x):\n",
    "    if 'HOMBRE'in x:\n",
    "        return 'masculine'\n",
    "    elif 'MUJER'in x:\n",
    "        return 'femenine'\n",
    "    elif 'NO ASIGNADO' in x:\n",
    "        return 'other'"
   ]
  },
  {
   "cell_type": "code",
   "execution_count": 424,
   "id": "sudden-organic",
   "metadata": {},
   "outputs": [],
   "source": [
    "data['gendre']= data['gendre'].apply (clean_gendre)"
   ]
  },
  {
   "cell_type": "code",
   "execution_count": 425,
   "id": "suspended-variation",
   "metadata": {},
   "outputs": [
    {
     "data": {
      "text/plain": [
       "masculine    69414\n",
       "femenine     42427\n",
       "Name: gendre, dtype: int64"
      ]
     },
     "execution_count": 425,
     "metadata": {},
     "output_type": "execute_result"
    }
   ],
   "source": [
    "data['gendre'].value_counts()"
   ]
  },
  {
   "cell_type": "code",
   "execution_count": 426,
   "id": "european-donna",
   "metadata": {},
   "outputs": [],
   "source": [
    "data['hour']= data['hour'].replace({\"DE\":\"From\"},regex=True)\n",
    "data['hour']= data['hour'].replace({\"A\":\"to\"},regex=True)"
   ]
  },
  {
   "cell_type": "code",
   "execution_count": 427,
   "id": "horizontal-isaac",
   "metadata": {},
   "outputs": [
    {
     "data": {
      "text/plain": [
       "2         From 00:00 to 00:59\n",
       "3           From 1:00 to 1:59\n",
       "4           From 1:00 to 1:59\n",
       "5           From 1:00 to 1:59\n",
       "6           From 1:00 to 1:59\n",
       "                 ...         \n",
       "252985    From 19:00 to 19:59\n",
       "252986    From 19:00 to 19:59\n",
       "252990    From 21:00 to 21:59\n",
       "252991    From 21:00 to 21:59\n",
       "252996    From 23:00 to 23:59\n",
       "Name: hour, Length: 111841, dtype: object"
      ]
     },
     "execution_count": 427,
     "metadata": {},
     "output_type": "execute_result"
    }
   ],
   "source": [
    "data['hour']"
   ]
  },
  {
   "cell_type": "code",
   "execution_count": 428,
   "id": "informational-bunny",
   "metadata": {},
   "outputs": [],
   "source": [
    "data['age']= data['age'].replace({\"DE\":\"From\"},regex=True)\n",
    "data['age']= data['age'].replace({\"AÑOS\":\"years\"},regex=True)\n",
    "data['age']= data['age'].replace({\"ANOS\":\"years\"},regex=True)\n",
    "data['age']= data['age'].replace({\"A\":\"to\"},regex=True)"
   ]
  },
  {
   "cell_type": "code",
   "execution_count": 429,
   "id": "involved-decrease",
   "metadata": {},
   "outputs": [
    {
     "data": {
      "text/plain": [
       "<bound method IndexOpsMixin.value_counts of 2         From 40 to 44 years\n",
       "3         From 25 to 29 years\n",
       "4         From 30 to 34 years\n",
       "5         From 25 to 29 years\n",
       "6         From 25 to 29 years\n",
       "                 ...         \n",
       "252985    From 35 to 39 years\n",
       "252986    From 50 to 54 years\n",
       "252990    From 21 to 24 years\n",
       "252991    From 45 to 49 years\n",
       "252996    From 50 to 54 years\n",
       "Name: age, Length: 111841, dtype: object>"
      ]
     },
     "execution_count": 429,
     "metadata": {},
     "output_type": "execute_result"
    }
   ],
   "source": [
    "data['age'].value_counts"
   ]
  },
  {
   "cell_type": "markdown",
   "id": "infinite-nerve",
   "metadata": {},
   "source": [
    "The column 'victims' represents the total number of vicitms of each accident, so is the same in all the rows with the same number of 'nº_parte'.\n",
    "As we have dropped all the rows that correspond to peopele that are not victims of the accident ( ilesos + no asignados) every row corresponds to a victim of the accident and the column 'lesividad'assigs the type of victim that this person is ( leve, grave, mortal).\n",
    "To facilitate further calculations we will change the name of the column 'victimas' to 'total_victimas' and  add an other column 'victimas' assigned the number one to each row. "
   ]
  },
  {
   "cell_type": "code",
   "execution_count": 430,
   "id": "extraordinary-crack",
   "metadata": {},
   "outputs": [],
   "source": [
    "data.rename(columns={\"victims\": \"cum_victims\"},inplace=True)"
   ]
  },
  {
   "cell_type": "code",
   "execution_count": 431,
   "id": "confident-interpretation",
   "metadata": {},
   "outputs": [],
   "source": [
    "#add a new column with the same value for each row\n",
    "# data_coord.assign(ciudad='Madrid')\n",
    "data.insert(11, 'unique_victims', 1)"
   ]
  },
  {
   "cell_type": "code",
   "execution_count": 432,
   "id": "biological-instrument",
   "metadata": {},
   "outputs": [
    {
     "name": "stdout",
     "output_type": "stream",
     "text": [
      "There are 111841 total injured victims\n",
      "If the output of the sum of new column is the same as the above , we are right: 111841\n"
     ]
    }
   ],
   "source": [
    "#Checking if our assumption is ok\n",
    "print('There are',data.loc[~data['record'].duplicated(),'cum_victims'].sum(),'total injured victims')\n",
    "print('If the output of the sum of new column is the same as the above , we are right:',data['unique_victims'].sum())"
   ]
  },
  {
   "cell_type": "code",
   "execution_count": 433,
   "id": "mobile-champagne",
   "metadata": {},
   "outputs": [
    {
     "data": {
      "text/html": [
       "<div>\n",
       "<style scoped>\n",
       "    .dataframe tbody tr th:only-of-type {\n",
       "        vertical-align: middle;\n",
       "    }\n",
       "\n",
       "    .dataframe tbody tr th {\n",
       "        vertical-align: top;\n",
       "    }\n",
       "\n",
       "    .dataframe thead th {\n",
       "        text-align: right;\n",
       "    }\n",
       "</style>\n",
       "<table border=\"1\" class=\"dataframe\">\n",
       "  <thead>\n",
       "    <tr style=\"text-align: right;\">\n",
       "      <th></th>\n",
       "      <th>date</th>\n",
       "      <th>day</th>\n",
       "      <th>week_day</th>\n",
       "      <th>month</th>\n",
       "      <th>year</th>\n",
       "      <th>hour</th>\n",
       "      <th>district</th>\n",
       "      <th>street</th>\n",
       "      <th>num_street</th>\n",
       "      <th>record</th>\n",
       "      <th>cum_victims</th>\n",
       "      <th>unique_victims</th>\n",
       "      <th>severity</th>\n",
       "      <th>type_accident</th>\n",
       "      <th>vehicle</th>\n",
       "      <th>person</th>\n",
       "      <th>gendre</th>\n",
       "      <th>age</th>\n",
       "      <th>hail</th>\n",
       "      <th>ice</th>\n",
       "      <th>rain</th>\n",
       "      <th>fog</th>\n",
       "      <th>dry</th>\n",
       "      <th>r_snow</th>\n",
       "      <th>r_wet</th>\n",
       "      <th>r_oil</th>\n",
       "      <th>r_mud</th>\n",
       "      <th>r_loose gravel</th>\n",
       "      <th>r_ice</th>\n",
       "      <th>r_dryclean</th>\n",
       "    </tr>\n",
       "  </thead>\n",
       "  <tbody>\n",
       "    <tr>\n",
       "      <th>2</th>\n",
       "      <td>2010-01-01</td>\n",
       "      <td>1</td>\n",
       "      <td>Friday</td>\n",
       "      <td>Jan</td>\n",
       "      <td>2010</td>\n",
       "      <td>From 00:00 to 00:59</td>\n",
       "      <td>CHAMARTIN</td>\n",
       "      <td>CALLE DE CARTAGENA NUM</td>\n",
       "      <td>104</td>\n",
       "      <td>2010/135</td>\n",
       "      <td>1</td>\n",
       "      <td>1</td>\n",
       "      <td>slightly injured</td>\n",
       "      <td>double_colision</td>\n",
       "      <td>car</td>\n",
       "      <td>traveler</td>\n",
       "      <td>femenine</td>\n",
       "      <td>From 40 to 44 years</td>\n",
       "      <td>NO</td>\n",
       "      <td>NO</td>\n",
       "      <td>SI</td>\n",
       "      <td>NO</td>\n",
       "      <td>NO</td>\n",
       "      <td>NO</td>\n",
       "      <td>SI</td>\n",
       "      <td>NO</td>\n",
       "      <td>NO</td>\n",
       "      <td>NO</td>\n",
       "      <td>NO</td>\n",
       "      <td>NO</td>\n",
       "    </tr>\n",
       "    <tr>\n",
       "      <th>3</th>\n",
       "      <td>2010-01-01</td>\n",
       "      <td>1</td>\n",
       "      <td>Friday</td>\n",
       "      <td>Jan</td>\n",
       "      <td>2010</td>\n",
       "      <td>From 1:00 to 1:59</td>\n",
       "      <td>PUENTE DE VALLECAS</td>\n",
       "      <td>AUTOVIA  M-30 CALZADA 2 KM.</td>\n",
       "      <td>10200</td>\n",
       "      <td>2010/94</td>\n",
       "      <td>7</td>\n",
       "      <td>1</td>\n",
       "      <td>slightly injured</td>\n",
       "      <td>multiple_colision</td>\n",
       "      <td>pedestrian</td>\n",
       "      <td>traveler</td>\n",
       "      <td>femenine</td>\n",
       "      <td>From 25 to 29 years</td>\n",
       "      <td>NO</td>\n",
       "      <td>NO</td>\n",
       "      <td>NO</td>\n",
       "      <td>NO</td>\n",
       "      <td>SI</td>\n",
       "      <td>NO</td>\n",
       "      <td>SI</td>\n",
       "      <td>NO</td>\n",
       "      <td>NO</td>\n",
       "      <td>NO</td>\n",
       "      <td>NO</td>\n",
       "      <td>NO</td>\n",
       "    </tr>\n",
       "    <tr>\n",
       "      <th>4</th>\n",
       "      <td>2010-01-01</td>\n",
       "      <td>1</td>\n",
       "      <td>Friday</td>\n",
       "      <td>Jan</td>\n",
       "      <td>2010</td>\n",
       "      <td>From 1:00 to 1:59</td>\n",
       "      <td>PUENTE DE VALLECAS</td>\n",
       "      <td>AUTOVIA  M-30 CALZADA 2 KM.</td>\n",
       "      <td>10200</td>\n",
       "      <td>2010/94</td>\n",
       "      <td>7</td>\n",
       "      <td>1</td>\n",
       "      <td>slightly injured</td>\n",
       "      <td>multiple_colision</td>\n",
       "      <td>pedestrian</td>\n",
       "      <td>traveler</td>\n",
       "      <td>femenine</td>\n",
       "      <td>From 30 to 34 years</td>\n",
       "      <td>NO</td>\n",
       "      <td>NO</td>\n",
       "      <td>NO</td>\n",
       "      <td>NO</td>\n",
       "      <td>SI</td>\n",
       "      <td>NO</td>\n",
       "      <td>SI</td>\n",
       "      <td>NO</td>\n",
       "      <td>NO</td>\n",
       "      <td>NO</td>\n",
       "      <td>NO</td>\n",
       "      <td>NO</td>\n",
       "    </tr>\n",
       "    <tr>\n",
       "      <th>5</th>\n",
       "      <td>2010-01-01</td>\n",
       "      <td>1</td>\n",
       "      <td>Friday</td>\n",
       "      <td>Jan</td>\n",
       "      <td>2010</td>\n",
       "      <td>From 1:00 to 1:59</td>\n",
       "      <td>PUENTE DE VALLECAS</td>\n",
       "      <td>AUTOVIA  M-30 CALZADA 2 KM.</td>\n",
       "      <td>10200</td>\n",
       "      <td>2010/94</td>\n",
       "      <td>7</td>\n",
       "      <td>1</td>\n",
       "      <td>slightly injured</td>\n",
       "      <td>multiple_colision</td>\n",
       "      <td>pedestrian</td>\n",
       "      <td>traveler</td>\n",
       "      <td>femenine</td>\n",
       "      <td>From 25 to 29 years</td>\n",
       "      <td>NO</td>\n",
       "      <td>NO</td>\n",
       "      <td>NO</td>\n",
       "      <td>NO</td>\n",
       "      <td>SI</td>\n",
       "      <td>NO</td>\n",
       "      <td>SI</td>\n",
       "      <td>NO</td>\n",
       "      <td>NO</td>\n",
       "      <td>NO</td>\n",
       "      <td>NO</td>\n",
       "      <td>NO</td>\n",
       "    </tr>\n",
       "    <tr>\n",
       "      <th>6</th>\n",
       "      <td>2010-01-01</td>\n",
       "      <td>1</td>\n",
       "      <td>Friday</td>\n",
       "      <td>Jan</td>\n",
       "      <td>2010</td>\n",
       "      <td>From 1:00 to 1:59</td>\n",
       "      <td>PUENTE DE VALLECAS</td>\n",
       "      <td>AUTOVIA  M-30 CALZADA 2 KM.</td>\n",
       "      <td>10200</td>\n",
       "      <td>2010/94</td>\n",
       "      <td>7</td>\n",
       "      <td>1</td>\n",
       "      <td>slightly injured</td>\n",
       "      <td>multiple_colision</td>\n",
       "      <td>pedestrian</td>\n",
       "      <td>traveler</td>\n",
       "      <td>femenine</td>\n",
       "      <td>From 25 to 29 years</td>\n",
       "      <td>NO</td>\n",
       "      <td>NO</td>\n",
       "      <td>NO</td>\n",
       "      <td>NO</td>\n",
       "      <td>SI</td>\n",
       "      <td>NO</td>\n",
       "      <td>SI</td>\n",
       "      <td>NO</td>\n",
       "      <td>NO</td>\n",
       "      <td>NO</td>\n",
       "      <td>NO</td>\n",
       "      <td>NO</td>\n",
       "    </tr>\n",
       "  </tbody>\n",
       "</table>\n",
       "</div>"
      ],
      "text/plain": [
       "        date  day week_day month  year                 hour  \\\n",
       "2 2010-01-01    1   Friday   Jan  2010  From 00:00 to 00:59   \n",
       "3 2010-01-01    1   Friday   Jan  2010    From 1:00 to 1:59   \n",
       "4 2010-01-01    1   Friday   Jan  2010    From 1:00 to 1:59   \n",
       "5 2010-01-01    1   Friday   Jan  2010    From 1:00 to 1:59   \n",
       "6 2010-01-01    1   Friday   Jan  2010    From 1:00 to 1:59   \n",
       "\n",
       "                         district  \\\n",
       "2  CHAMARTIN                        \n",
       "3  PUENTE DE VALLECAS               \n",
       "4  PUENTE DE VALLECAS               \n",
       "5  PUENTE DE VALLECAS               \n",
       "6  PUENTE DE VALLECAS               \n",
       "\n",
       "                                                                                                 street  \\\n",
       "2  CALLE DE CARTAGENA NUM                                                                                 \n",
       "3  AUTOVIA  M-30 CALZADA 2 KM.                                                                            \n",
       "4  AUTOVIA  M-30 CALZADA 2 KM.                                                                            \n",
       "5  AUTOVIA  M-30 CALZADA 2 KM.                                                                            \n",
       "6  AUTOVIA  M-30 CALZADA 2 KM.                                                                            \n",
       "\n",
       "  num_street    record  cum_victims  unique_victims          severity  \\\n",
       "2        104  2010/135            1               1  slightly injured   \n",
       "3      10200   2010/94            7               1  slightly injured   \n",
       "4      10200   2010/94            7               1  slightly injured   \n",
       "5      10200   2010/94            7               1  slightly injured   \n",
       "6      10200   2010/94            7               1  slightly injured   \n",
       "\n",
       "       type_accident     vehicle    person    gendre                  age  \\\n",
       "2    double_colision         car  traveler  femenine  From 40 to 44 years   \n",
       "3  multiple_colision  pedestrian  traveler  femenine  From 25 to 29 years   \n",
       "4  multiple_colision  pedestrian  traveler  femenine  From 30 to 34 years   \n",
       "5  multiple_colision  pedestrian  traveler  femenine  From 25 to 29 years   \n",
       "6  multiple_colision  pedestrian  traveler  femenine  From 25 to 29 years   \n",
       "\n",
       "  hail ice rain fog dry r_snow r_wet r_oil r_mud r_loose gravel r_ice  \\\n",
       "2   NO  NO   SI  NO  NO     NO    SI    NO    NO             NO    NO   \n",
       "3   NO  NO   NO  NO  SI     NO    SI    NO    NO             NO    NO   \n",
       "4   NO  NO   NO  NO  SI     NO    SI    NO    NO             NO    NO   \n",
       "5   NO  NO   NO  NO  SI     NO    SI    NO    NO             NO    NO   \n",
       "6   NO  NO   NO  NO  SI     NO    SI    NO    NO             NO    NO   \n",
       "\n",
       "  r_dryclean  \n",
       "2         NO  \n",
       "3         NO  \n",
       "4         NO  \n",
       "5         NO  \n",
       "6         NO  "
      ]
     },
     "execution_count": 433,
     "metadata": {},
     "output_type": "execute_result"
    }
   ],
   "source": [
    "data.head()"
   ]
  },
  {
   "cell_type": "code",
   "execution_count": 434,
   "id": "heated-edmonton",
   "metadata": {},
   "outputs": [],
   "source": [
    "#Create two columns that groups the results of weather related columns and road status. "
   ]
  },
  {
   "cell_type": "code",
   "execution_count": 435,
   "id": "divided-married",
   "metadata": {},
   "outputs": [],
   "source": [
    "#creating a columns for weather:\n",
    "def column_weather (row):\n",
    "    if row['hail'] == 'SI' :\n",
    "        return 'hail'\n",
    "    if row['ice']== 'SI' :\n",
    "        return 'ice'\n",
    "    if row['rain'] == 'SI' :\n",
    "        return 'rain'\n",
    "    if row['fog'] == 'SI':\n",
    "        return 'fog'\n",
    "    if row['dry']  == 'SI':\n",
    "        return 'dry'\n",
    "    else:\n",
    "        return 'other'"
   ]
  },
  {
   "cell_type": "code",
   "execution_count": 436,
   "id": "approved-grill",
   "metadata": {},
   "outputs": [
    {
     "data": {
      "text/plain": [
       "2         rain\n",
       "3          dry\n",
       "4          dry\n",
       "5          dry\n",
       "6          dry\n",
       "          ... \n",
       "252985     dry\n",
       "252986     dry\n",
       "252990     dry\n",
       "252991     dry\n",
       "252996     dry\n",
       "Length: 111841, dtype: object"
      ]
     },
     "execution_count": 436,
     "metadata": {},
     "output_type": "execute_result"
    }
   ],
   "source": [
    "data.apply (lambda row: column_weather(row), axis=1)"
   ]
  },
  {
   "cell_type": "code",
   "execution_count": 437,
   "id": "muslim-camcorder",
   "metadata": {},
   "outputs": [],
   "source": [
    "data['weather'] = data.apply (lambda row: column_weather(row), axis=1)"
   ]
  },
  {
   "cell_type": "code",
   "execution_count": 438,
   "id": "expired-locking",
   "metadata": {},
   "outputs": [
    {
     "data": {
      "text/plain": [
       "0"
      ]
     },
     "execution_count": 438,
     "metadata": {},
     "output_type": "execute_result"
    }
   ],
   "source": [
    "data['weather'] .isnull().sum()"
   ]
  },
  {
   "cell_type": "code",
   "execution_count": 439,
   "id": "unable-attendance",
   "metadata": {},
   "outputs": [],
   "source": [
    "#creating a columns for road_status:\n",
    "def column_road_status (row):\n",
    "    if row['r_snow'] == 'SI' :\n",
    "        return 'snow'\n",
    "    if row['r_wet']== 'SI' :\n",
    "        return 'wet'\n",
    "    if row['r_oil'] == 'SI' :\n",
    "        return 'oil'\n",
    "    if row['r_mud'] == 'SI':\n",
    "        return 'mud'\n",
    "    if row['r_loose gravel']  == 'SI':\n",
    "        return 'loose_gravel'\n",
    "    if row['r_ice'] == 'SI':\n",
    "        return 'ice'\n",
    "    if row['r_dryclean'] == 'SI':\n",
    "        return 'dry_clean'\n",
    "    else:\n",
    "        return'unknown'"
   ]
  },
  {
   "cell_type": "code",
   "execution_count": 440,
   "id": "decimal-equipment",
   "metadata": {},
   "outputs": [
    {
     "data": {
      "text/plain": [
       "2               wet\n",
       "3               wet\n",
       "4               wet\n",
       "5               wet\n",
       "6               wet\n",
       "            ...    \n",
       "252985    dry_clean\n",
       "252986    dry_clean\n",
       "252990    dry_clean\n",
       "252991    dry_clean\n",
       "252996    dry_clean\n",
       "Length: 111841, dtype: object"
      ]
     },
     "execution_count": 440,
     "metadata": {},
     "output_type": "execute_result"
    }
   ],
   "source": [
    "data.apply (lambda row: column_road_status (row), axis=1)"
   ]
  },
  {
   "cell_type": "code",
   "execution_count": 441,
   "id": "olympic-logistics",
   "metadata": {},
   "outputs": [],
   "source": [
    "data['road_status'] = data.apply (lambda row: column_road_status(row), axis=1)"
   ]
  },
  {
   "cell_type": "code",
   "execution_count": 442,
   "id": "colored-civilization",
   "metadata": {},
   "outputs": [
    {
     "data": {
      "text/plain": [
       "0"
      ]
     },
     "execution_count": 442,
     "metadata": {},
     "output_type": "execute_result"
    }
   ],
   "source": [
    "data['road_status'].isnull().sum()"
   ]
  },
  {
   "cell_type": "code",
   "execution_count": 443,
   "id": "corrected-season",
   "metadata": {},
   "outputs": [
    {
     "data": {
      "text/plain": [
       "(111841, 32)"
      ]
     },
     "execution_count": 443,
     "metadata": {},
     "output_type": "execute_result"
    }
   ],
   "source": [
    "data.shape"
   ]
  },
  {
   "cell_type": "code",
   "execution_count": 444,
   "id": "atlantic-liberal",
   "metadata": {},
   "outputs": [],
   "source": [
    "#join the column street + num  + Madrid into a new one"
   ]
  },
  {
   "cell_type": "code",
   "execution_count": 445,
   "id": "eligible-default",
   "metadata": {},
   "outputs": [],
   "source": [
    "data[\"address\"] = data[\"street\"].astype(str) + data[\"num_street\"].astype(str) + ' Madrid'"
   ]
  },
  {
   "cell_type": "code",
   "execution_count": 446,
   "id": "assigned-access",
   "metadata": {},
   "outputs": [],
   "source": [
    "#creating a columns for num_district: NO FUNCIONA\n",
    "# def num_district (row):\n",
    "#     if row['district'] == 'SALAMANCA':\n",
    "#         return '4'\n",
    "#     if row['district'] == 'CHAMARTIN':\n",
    "#         return '5'\n",
    "#     if row['district'] == 'CENTRO':\n",
    "#         return '1'\n",
    "#     if row['district'] == 'CIUDAD LINEAL':\n",
    "#         return '15'\n",
    "#     if row['district'] == 'PUENTE DE VALLECAS':\n",
    "#         return '13'\n",
    "#     if row['district'] == 'CARABANCHEL':\n",
    "#         return '11'\n",
    "#     if row['district'] == 'CHAMBERI':\n",
    "#         return '7'\n",
    "#     if row['district'] == 'FUENCARRAL-EL PARDO':\n",
    "#         return '8'\n",
    "#     if row['district'] == 'RETIRO':\n",
    "#         return '3'\n",
    "#     if row['district'] == 'TETUAN':\n",
    "#         return '6'\n",
    "#     if row['district'] == 'MONCLOA-ARAVACA':\n",
    "#         return '9'\n",
    "#     if row['district'] == 'ARGANZUELA':\n",
    "#         return '2'\n",
    "#     if row['district'] == 'LATINA':\n",
    "#         return '10'\n",
    "#     if row['district'] == 'SAN BLAS':\n",
    "#         return '20'\n",
    "#     if row['district'] == 'USERA':\n",
    "#         return '12'\n",
    "#     if row['district'] == 'HORTALEZA':\n",
    "#         return '16'\n",
    "#     if row['district'] == 'VILLAVERDE':\n",
    "#         return '17'\n",
    "#     if row['district'] == 'MORATALAZ':\n",
    "#         return '14'\n",
    "#     if row['district'] == 'VILLA DE VALLECAS':\n",
    "#         return '18'\n",
    "#     if row['district'] == 'BARAJAS':\n",
    "#         return '21'\n",
    "#     if row['district'] == 'VICALVARO':\n",
    "#         return '19'\n",
    "#     if row['district'] == 'VILLA DE VALLECAS':\n",
    "#         return '18'   "
   ]
  },
  {
   "cell_type": "code",
   "execution_count": 447,
   "id": "further-distributor",
   "metadata": {},
   "outputs": [],
   "source": [
    "# data.apply (lambda row: num_district(row), axis=1)"
   ]
  },
  {
   "cell_type": "code",
   "execution_count": 448,
   "id": "emerging-resistance",
   "metadata": {},
   "outputs": [],
   "source": [
    "# data['num_district'] = data.apply (lambda row: num_district(row), axis=1) ##why it doesn´t work???"
   ]
  },
  {
   "cell_type": "code",
   "execution_count": 449,
   "id": "molecular-piece",
   "metadata": {},
   "outputs": [],
   "source": [
    "# 1\tCENTRO\n",
    "# 2\tARGANZUELA\n",
    "# 3\tRETIRO\n",
    "# 4\tSALAMANCA\n",
    "# 5\tCHAMARTIN\n",
    "# 6\tTETUAN\n",
    "# 7\tCHAMBERI\n",
    "# 8\tFUENCARRAL - EL PARDO\n",
    "# 9\tMONCLOA - ARAVACA\n",
    "# 10\tLATINA\n",
    "# 11\tCARABANCHEL\n",
    "# 12\tUSERA\n",
    "# 13\tPUENTE DE VALLECAS\n",
    "# 14\tMORATALAZ\n",
    "# 15\tCIUDAD LINEAL\n",
    "# 16\tHORTALEZA\n",
    "# 17\tVILLAVERDE\n",
    "# 18\tVILLA DE VALLECAS\n",
    "# 19\tVICALVARO\n",
    "# 20\tSAN BLAS - CANILLEJAS\n",
    "# 21\tBARAJAS"
   ]
  },
  {
   "cell_type": "code",
   "execution_count": 450,
   "id": "automated-curve",
   "metadata": {},
   "outputs": [],
   "source": [
    "data.reset_index(drop=True, inplace=True)"
   ]
  },
  {
   "cell_type": "code",
   "execution_count": 451,
   "id": "dedicated-carroll",
   "metadata": {},
   "outputs": [
    {
     "data": {
      "text/html": [
       "<div>\n",
       "<style scoped>\n",
       "    .dataframe tbody tr th:only-of-type {\n",
       "        vertical-align: middle;\n",
       "    }\n",
       "\n",
       "    .dataframe tbody tr th {\n",
       "        vertical-align: top;\n",
       "    }\n",
       "\n",
       "    .dataframe thead th {\n",
       "        text-align: right;\n",
       "    }\n",
       "</style>\n",
       "<table border=\"1\" class=\"dataframe\">\n",
       "  <thead>\n",
       "    <tr style=\"text-align: right;\">\n",
       "      <th></th>\n",
       "      <th>date</th>\n",
       "      <th>day</th>\n",
       "      <th>week_day</th>\n",
       "      <th>month</th>\n",
       "      <th>year</th>\n",
       "      <th>hour</th>\n",
       "      <th>district</th>\n",
       "      <th>street</th>\n",
       "      <th>num_street</th>\n",
       "      <th>record</th>\n",
       "      <th>cum_victims</th>\n",
       "      <th>unique_victims</th>\n",
       "      <th>severity</th>\n",
       "      <th>type_accident</th>\n",
       "      <th>vehicle</th>\n",
       "      <th>person</th>\n",
       "      <th>gendre</th>\n",
       "      <th>age</th>\n",
       "      <th>hail</th>\n",
       "      <th>ice</th>\n",
       "      <th>rain</th>\n",
       "      <th>fog</th>\n",
       "      <th>dry</th>\n",
       "      <th>r_snow</th>\n",
       "      <th>r_wet</th>\n",
       "      <th>r_oil</th>\n",
       "      <th>r_mud</th>\n",
       "      <th>r_loose gravel</th>\n",
       "      <th>r_ice</th>\n",
       "      <th>r_dryclean</th>\n",
       "      <th>weather</th>\n",
       "      <th>road_status</th>\n",
       "      <th>address</th>\n",
       "    </tr>\n",
       "  </thead>\n",
       "  <tbody>\n",
       "    <tr>\n",
       "      <th>0</th>\n",
       "      <td>2010-01-01</td>\n",
       "      <td>1</td>\n",
       "      <td>Friday</td>\n",
       "      <td>Jan</td>\n",
       "      <td>2010</td>\n",
       "      <td>From 00:00 to 00:59</td>\n",
       "      <td>CHAMARTIN</td>\n",
       "      <td>CALLE DE CARTAGENA NUM</td>\n",
       "      <td>104</td>\n",
       "      <td>2010/135</td>\n",
       "      <td>1</td>\n",
       "      <td>1</td>\n",
       "      <td>slightly injured</td>\n",
       "      <td>double_colision</td>\n",
       "      <td>car</td>\n",
       "      <td>traveler</td>\n",
       "      <td>femenine</td>\n",
       "      <td>From 40 to 44 years</td>\n",
       "      <td>NO</td>\n",
       "      <td>NO</td>\n",
       "      <td>SI</td>\n",
       "      <td>NO</td>\n",
       "      <td>NO</td>\n",
       "      <td>NO</td>\n",
       "      <td>SI</td>\n",
       "      <td>NO</td>\n",
       "      <td>NO</td>\n",
       "      <td>NO</td>\n",
       "      <td>NO</td>\n",
       "      <td>NO</td>\n",
       "      <td>rain</td>\n",
       "      <td>wet</td>\n",
       "      <td>CALLE DE CARTAGENA NUM                                                                              104 Madrid</td>\n",
       "    </tr>\n",
       "    <tr>\n",
       "      <th>1</th>\n",
       "      <td>2010-01-01</td>\n",
       "      <td>1</td>\n",
       "      <td>Friday</td>\n",
       "      <td>Jan</td>\n",
       "      <td>2010</td>\n",
       "      <td>From 1:00 to 1:59</td>\n",
       "      <td>PUENTE DE VALLECAS</td>\n",
       "      <td>AUTOVIA  M-30 CALZADA 2 KM.</td>\n",
       "      <td>10200</td>\n",
       "      <td>2010/94</td>\n",
       "      <td>7</td>\n",
       "      <td>1</td>\n",
       "      <td>slightly injured</td>\n",
       "      <td>multiple_colision</td>\n",
       "      <td>pedestrian</td>\n",
       "      <td>traveler</td>\n",
       "      <td>femenine</td>\n",
       "      <td>From 25 to 29 years</td>\n",
       "      <td>NO</td>\n",
       "      <td>NO</td>\n",
       "      <td>NO</td>\n",
       "      <td>NO</td>\n",
       "      <td>SI</td>\n",
       "      <td>NO</td>\n",
       "      <td>SI</td>\n",
       "      <td>NO</td>\n",
       "      <td>NO</td>\n",
       "      <td>NO</td>\n",
       "      <td>NO</td>\n",
       "      <td>NO</td>\n",
       "      <td>dry</td>\n",
       "      <td>wet</td>\n",
       "      <td>AUTOVIA  M-30 CALZADA 2 KM.                                                                         10200 Madrid</td>\n",
       "    </tr>\n",
       "    <tr>\n",
       "      <th>2</th>\n",
       "      <td>2010-01-01</td>\n",
       "      <td>1</td>\n",
       "      <td>Friday</td>\n",
       "      <td>Jan</td>\n",
       "      <td>2010</td>\n",
       "      <td>From 1:00 to 1:59</td>\n",
       "      <td>PUENTE DE VALLECAS</td>\n",
       "      <td>AUTOVIA  M-30 CALZADA 2 KM.</td>\n",
       "      <td>10200</td>\n",
       "      <td>2010/94</td>\n",
       "      <td>7</td>\n",
       "      <td>1</td>\n",
       "      <td>slightly injured</td>\n",
       "      <td>multiple_colision</td>\n",
       "      <td>pedestrian</td>\n",
       "      <td>traveler</td>\n",
       "      <td>femenine</td>\n",
       "      <td>From 30 to 34 years</td>\n",
       "      <td>NO</td>\n",
       "      <td>NO</td>\n",
       "      <td>NO</td>\n",
       "      <td>NO</td>\n",
       "      <td>SI</td>\n",
       "      <td>NO</td>\n",
       "      <td>SI</td>\n",
       "      <td>NO</td>\n",
       "      <td>NO</td>\n",
       "      <td>NO</td>\n",
       "      <td>NO</td>\n",
       "      <td>NO</td>\n",
       "      <td>dry</td>\n",
       "      <td>wet</td>\n",
       "      <td>AUTOVIA  M-30 CALZADA 2 KM.                                                                         10200 Madrid</td>\n",
       "    </tr>\n",
       "    <tr>\n",
       "      <th>3</th>\n",
       "      <td>2010-01-01</td>\n",
       "      <td>1</td>\n",
       "      <td>Friday</td>\n",
       "      <td>Jan</td>\n",
       "      <td>2010</td>\n",
       "      <td>From 1:00 to 1:59</td>\n",
       "      <td>PUENTE DE VALLECAS</td>\n",
       "      <td>AUTOVIA  M-30 CALZADA 2 KM.</td>\n",
       "      <td>10200</td>\n",
       "      <td>2010/94</td>\n",
       "      <td>7</td>\n",
       "      <td>1</td>\n",
       "      <td>slightly injured</td>\n",
       "      <td>multiple_colision</td>\n",
       "      <td>pedestrian</td>\n",
       "      <td>traveler</td>\n",
       "      <td>femenine</td>\n",
       "      <td>From 25 to 29 years</td>\n",
       "      <td>NO</td>\n",
       "      <td>NO</td>\n",
       "      <td>NO</td>\n",
       "      <td>NO</td>\n",
       "      <td>SI</td>\n",
       "      <td>NO</td>\n",
       "      <td>SI</td>\n",
       "      <td>NO</td>\n",
       "      <td>NO</td>\n",
       "      <td>NO</td>\n",
       "      <td>NO</td>\n",
       "      <td>NO</td>\n",
       "      <td>dry</td>\n",
       "      <td>wet</td>\n",
       "      <td>AUTOVIA  M-30 CALZADA 2 KM.                                                                         10200 Madrid</td>\n",
       "    </tr>\n",
       "    <tr>\n",
       "      <th>4</th>\n",
       "      <td>2010-01-01</td>\n",
       "      <td>1</td>\n",
       "      <td>Friday</td>\n",
       "      <td>Jan</td>\n",
       "      <td>2010</td>\n",
       "      <td>From 1:00 to 1:59</td>\n",
       "      <td>PUENTE DE VALLECAS</td>\n",
       "      <td>AUTOVIA  M-30 CALZADA 2 KM.</td>\n",
       "      <td>10200</td>\n",
       "      <td>2010/94</td>\n",
       "      <td>7</td>\n",
       "      <td>1</td>\n",
       "      <td>slightly injured</td>\n",
       "      <td>multiple_colision</td>\n",
       "      <td>pedestrian</td>\n",
       "      <td>traveler</td>\n",
       "      <td>femenine</td>\n",
       "      <td>From 25 to 29 years</td>\n",
       "      <td>NO</td>\n",
       "      <td>NO</td>\n",
       "      <td>NO</td>\n",
       "      <td>NO</td>\n",
       "      <td>SI</td>\n",
       "      <td>NO</td>\n",
       "      <td>SI</td>\n",
       "      <td>NO</td>\n",
       "      <td>NO</td>\n",
       "      <td>NO</td>\n",
       "      <td>NO</td>\n",
       "      <td>NO</td>\n",
       "      <td>dry</td>\n",
       "      <td>wet</td>\n",
       "      <td>AUTOVIA  M-30 CALZADA 2 KM.                                                                         10200 Madrid</td>\n",
       "    </tr>\n",
       "  </tbody>\n",
       "</table>\n",
       "</div>"
      ],
      "text/plain": [
       "        date  day week_day month  year                 hour  \\\n",
       "0 2010-01-01    1   Friday   Jan  2010  From 00:00 to 00:59   \n",
       "1 2010-01-01    1   Friday   Jan  2010    From 1:00 to 1:59   \n",
       "2 2010-01-01    1   Friday   Jan  2010    From 1:00 to 1:59   \n",
       "3 2010-01-01    1   Friday   Jan  2010    From 1:00 to 1:59   \n",
       "4 2010-01-01    1   Friday   Jan  2010    From 1:00 to 1:59   \n",
       "\n",
       "                         district  \\\n",
       "0  CHAMARTIN                        \n",
       "1  PUENTE DE VALLECAS               \n",
       "2  PUENTE DE VALLECAS               \n",
       "3  PUENTE DE VALLECAS               \n",
       "4  PUENTE DE VALLECAS               \n",
       "\n",
       "                                                                                                 street  \\\n",
       "0  CALLE DE CARTAGENA NUM                                                                                 \n",
       "1  AUTOVIA  M-30 CALZADA 2 KM.                                                                            \n",
       "2  AUTOVIA  M-30 CALZADA 2 KM.                                                                            \n",
       "3  AUTOVIA  M-30 CALZADA 2 KM.                                                                            \n",
       "4  AUTOVIA  M-30 CALZADA 2 KM.                                                                            \n",
       "\n",
       "  num_street    record  cum_victims  unique_victims          severity  \\\n",
       "0        104  2010/135            1               1  slightly injured   \n",
       "1      10200   2010/94            7               1  slightly injured   \n",
       "2      10200   2010/94            7               1  slightly injured   \n",
       "3      10200   2010/94            7               1  slightly injured   \n",
       "4      10200   2010/94            7               1  slightly injured   \n",
       "\n",
       "       type_accident     vehicle    person    gendre                  age  \\\n",
       "0    double_colision         car  traveler  femenine  From 40 to 44 years   \n",
       "1  multiple_colision  pedestrian  traveler  femenine  From 25 to 29 years   \n",
       "2  multiple_colision  pedestrian  traveler  femenine  From 30 to 34 years   \n",
       "3  multiple_colision  pedestrian  traveler  femenine  From 25 to 29 years   \n",
       "4  multiple_colision  pedestrian  traveler  femenine  From 25 to 29 years   \n",
       "\n",
       "  hail ice rain fog dry r_snow r_wet r_oil r_mud r_loose gravel r_ice  \\\n",
       "0   NO  NO   SI  NO  NO     NO    SI    NO    NO             NO    NO   \n",
       "1   NO  NO   NO  NO  SI     NO    SI    NO    NO             NO    NO   \n",
       "2   NO  NO   NO  NO  SI     NO    SI    NO    NO             NO    NO   \n",
       "3   NO  NO   NO  NO  SI     NO    SI    NO    NO             NO    NO   \n",
       "4   NO  NO   NO  NO  SI     NO    SI    NO    NO             NO    NO   \n",
       "\n",
       "  r_dryclean weather road_status  \\\n",
       "0         NO    rain         wet   \n",
       "1         NO     dry         wet   \n",
       "2         NO     dry         wet   \n",
       "3         NO     dry         wet   \n",
       "4         NO     dry         wet   \n",
       "\n",
       "                                                                                                            address  \n",
       "0    CALLE DE CARTAGENA NUM                                                                              104 Madrid  \n",
       "1  AUTOVIA  M-30 CALZADA 2 KM.                                                                         10200 Madrid  \n",
       "2  AUTOVIA  M-30 CALZADA 2 KM.                                                                         10200 Madrid  \n",
       "3  AUTOVIA  M-30 CALZADA 2 KM.                                                                         10200 Madrid  \n",
       "4  AUTOVIA  M-30 CALZADA 2 KM.                                                                         10200 Madrid  "
      ]
     },
     "execution_count": 451,
     "metadata": {},
     "output_type": "execute_result"
    },
    {
     "data": {
      "text/plain": [
       "(111841, 33)"
      ]
     },
     "execution_count": 451,
     "metadata": {},
     "output_type": "execute_result"
    }
   ],
   "source": [
    "data.head()\n",
    "data.shape"
   ]
  },
  {
   "cell_type": "markdown",
   "id": "valid-level",
   "metadata": {},
   "source": [
    "3- **Which is the max number of victims implicated in an accident? Which is the most common number the victims per accident?**"
   ]
  },
  {
   "cell_type": "code",
   "execution_count": 452,
   "id": "rough-allocation",
   "metadata": {},
   "outputs": [
    {
     "name": "stdout",
     "output_type": "stream",
     "text": [
      "The highest number of victims in an accidents is: 22\n",
      "The lowest number of victims in an accidents is: 1\n"
     ]
    }
   ],
   "source": [
    "#Which is the highest number of victims implicated in an accident?\n",
    "print( 'The highest number of victims in an accidents is:',data['cum_victims'].max())\n",
    "print( 'The lowest number of victims in an accidents is:',data['cum_victims'].min())"
   ]
  },
  {
   "cell_type": "code",
   "execution_count": 453,
   "id": "wired-first",
   "metadata": {},
   "outputs": [],
   "source": [
    "#we have to analyse those accidents with severity or mortal consequences.What are the factors that contribute the most?"
   ]
  },
  {
   "cell_type": "code",
   "execution_count": 454,
   "id": "flush-explorer",
   "metadata": {},
   "outputs": [],
   "source": [
    "# data.dtypes"
   ]
  },
  {
   "cell_type": "code",
   "execution_count": 455,
   "id": "applicable-foster",
   "metadata": {},
   "outputs": [
    {
     "data": {
      "text/plain": [
       "Index(['date', 'day', 'week_day', 'month', 'year', 'hour', 'district',\n",
       "       'street', 'num_street', 'record', 'cum_victims', 'unique_victims',\n",
       "       'severity', 'type_accident', 'vehicle', 'person', 'gendre', 'age',\n",
       "       'hail', 'ice', 'rain', 'fog', 'dry', 'r_snow', 'r_wet', 'r_oil',\n",
       "       'r_mud', 'r_loose gravel', 'r_ice', 'r_dryclean', 'weather',\n",
       "       'road_status', 'address'],\n",
       "      dtype='object')"
      ]
     },
     "execution_count": 455,
     "metadata": {},
     "output_type": "execute_result"
    }
   ],
   "source": [
    "data.columns"
   ]
  },
  {
   "cell_type": "code",
   "execution_count": 456,
   "id": "precise-nashville",
   "metadata": {},
   "outputs": [],
   "source": [
    "# We will change the order of the columns for an easier analysis and thus creating our cleaned data set.\n",
    "data_clean= data[['date', 'day', 'week_day', 'month', 'year', 'hour', 'district',\n",
    "       'address','record', 'cum_victims', 'unique_victims',\n",
    "       'severity', 'type_accident', 'vehicle', 'person', 'gendre', 'age','weather',\n",
    "       'road_status']]"
   ]
  },
  {
   "cell_type": "code",
   "execution_count": 457,
   "id": "radio-violin",
   "metadata": {},
   "outputs": [
    {
     "data": {
      "text/html": [
       "<div>\n",
       "<style scoped>\n",
       "    .dataframe tbody tr th:only-of-type {\n",
       "        vertical-align: middle;\n",
       "    }\n",
       "\n",
       "    .dataframe tbody tr th {\n",
       "        vertical-align: top;\n",
       "    }\n",
       "\n",
       "    .dataframe thead th {\n",
       "        text-align: right;\n",
       "    }\n",
       "</style>\n",
       "<table border=\"1\" class=\"dataframe\">\n",
       "  <thead>\n",
       "    <tr style=\"text-align: right;\">\n",
       "      <th></th>\n",
       "      <th>date</th>\n",
       "      <th>day</th>\n",
       "      <th>week_day</th>\n",
       "      <th>month</th>\n",
       "      <th>year</th>\n",
       "      <th>hour</th>\n",
       "      <th>district</th>\n",
       "      <th>address</th>\n",
       "      <th>record</th>\n",
       "      <th>cum_victims</th>\n",
       "      <th>unique_victims</th>\n",
       "      <th>severity</th>\n",
       "      <th>type_accident</th>\n",
       "      <th>vehicle</th>\n",
       "      <th>person</th>\n",
       "      <th>gendre</th>\n",
       "      <th>age</th>\n",
       "      <th>weather</th>\n",
       "      <th>road_status</th>\n",
       "    </tr>\n",
       "  </thead>\n",
       "  <tbody>\n",
       "    <tr>\n",
       "      <th>0</th>\n",
       "      <td>2010-01-01</td>\n",
       "      <td>1</td>\n",
       "      <td>Friday</td>\n",
       "      <td>Jan</td>\n",
       "      <td>2010</td>\n",
       "      <td>From 00:00 to 00:59</td>\n",
       "      <td>CHAMARTIN</td>\n",
       "      <td>CALLE DE CARTAGENA NUM                                                                              104 Madrid</td>\n",
       "      <td>2010/135</td>\n",
       "      <td>1</td>\n",
       "      <td>1</td>\n",
       "      <td>slightly injured</td>\n",
       "      <td>double_colision</td>\n",
       "      <td>car</td>\n",
       "      <td>traveler</td>\n",
       "      <td>femenine</td>\n",
       "      <td>From 40 to 44 years</td>\n",
       "      <td>rain</td>\n",
       "      <td>wet</td>\n",
       "    </tr>\n",
       "    <tr>\n",
       "      <th>1</th>\n",
       "      <td>2010-01-01</td>\n",
       "      <td>1</td>\n",
       "      <td>Friday</td>\n",
       "      <td>Jan</td>\n",
       "      <td>2010</td>\n",
       "      <td>From 1:00 to 1:59</td>\n",
       "      <td>PUENTE DE VALLECAS</td>\n",
       "      <td>AUTOVIA  M-30 CALZADA 2 KM.                                                                         10200 Madrid</td>\n",
       "      <td>2010/94</td>\n",
       "      <td>7</td>\n",
       "      <td>1</td>\n",
       "      <td>slightly injured</td>\n",
       "      <td>multiple_colision</td>\n",
       "      <td>pedestrian</td>\n",
       "      <td>traveler</td>\n",
       "      <td>femenine</td>\n",
       "      <td>From 25 to 29 years</td>\n",
       "      <td>dry</td>\n",
       "      <td>wet</td>\n",
       "    </tr>\n",
       "    <tr>\n",
       "      <th>2</th>\n",
       "      <td>2010-01-01</td>\n",
       "      <td>1</td>\n",
       "      <td>Friday</td>\n",
       "      <td>Jan</td>\n",
       "      <td>2010</td>\n",
       "      <td>From 1:00 to 1:59</td>\n",
       "      <td>PUENTE DE VALLECAS</td>\n",
       "      <td>AUTOVIA  M-30 CALZADA 2 KM.                                                                         10200 Madrid</td>\n",
       "      <td>2010/94</td>\n",
       "      <td>7</td>\n",
       "      <td>1</td>\n",
       "      <td>slightly injured</td>\n",
       "      <td>multiple_colision</td>\n",
       "      <td>pedestrian</td>\n",
       "      <td>traveler</td>\n",
       "      <td>femenine</td>\n",
       "      <td>From 30 to 34 years</td>\n",
       "      <td>dry</td>\n",
       "      <td>wet</td>\n",
       "    </tr>\n",
       "    <tr>\n",
       "      <th>3</th>\n",
       "      <td>2010-01-01</td>\n",
       "      <td>1</td>\n",
       "      <td>Friday</td>\n",
       "      <td>Jan</td>\n",
       "      <td>2010</td>\n",
       "      <td>From 1:00 to 1:59</td>\n",
       "      <td>PUENTE DE VALLECAS</td>\n",
       "      <td>AUTOVIA  M-30 CALZADA 2 KM.                                                                         10200 Madrid</td>\n",
       "      <td>2010/94</td>\n",
       "      <td>7</td>\n",
       "      <td>1</td>\n",
       "      <td>slightly injured</td>\n",
       "      <td>multiple_colision</td>\n",
       "      <td>pedestrian</td>\n",
       "      <td>traveler</td>\n",
       "      <td>femenine</td>\n",
       "      <td>From 25 to 29 years</td>\n",
       "      <td>dry</td>\n",
       "      <td>wet</td>\n",
       "    </tr>\n",
       "    <tr>\n",
       "      <th>4</th>\n",
       "      <td>2010-01-01</td>\n",
       "      <td>1</td>\n",
       "      <td>Friday</td>\n",
       "      <td>Jan</td>\n",
       "      <td>2010</td>\n",
       "      <td>From 1:00 to 1:59</td>\n",
       "      <td>PUENTE DE VALLECAS</td>\n",
       "      <td>AUTOVIA  M-30 CALZADA 2 KM.                                                                         10200 Madrid</td>\n",
       "      <td>2010/94</td>\n",
       "      <td>7</td>\n",
       "      <td>1</td>\n",
       "      <td>slightly injured</td>\n",
       "      <td>multiple_colision</td>\n",
       "      <td>pedestrian</td>\n",
       "      <td>traveler</td>\n",
       "      <td>femenine</td>\n",
       "      <td>From 25 to 29 years</td>\n",
       "      <td>dry</td>\n",
       "      <td>wet</td>\n",
       "    </tr>\n",
       "    <tr>\n",
       "      <th>5</th>\n",
       "      <td>2010-01-01</td>\n",
       "      <td>1</td>\n",
       "      <td>Friday</td>\n",
       "      <td>Jan</td>\n",
       "      <td>2010</td>\n",
       "      <td>From 1:00 to 1:59</td>\n",
       "      <td>PUENTE DE VALLECAS</td>\n",
       "      <td>AUTOVIA  M-30 CALZADA 2 KM.                                                                         10200 Madrid</td>\n",
       "      <td>2010/94</td>\n",
       "      <td>7</td>\n",
       "      <td>1</td>\n",
       "      <td>slightly injured</td>\n",
       "      <td>multiple_colision</td>\n",
       "      <td>car</td>\n",
       "      <td>driver</td>\n",
       "      <td>femenine</td>\n",
       "      <td>From 25 to 29 years</td>\n",
       "      <td>dry</td>\n",
       "      <td>wet</td>\n",
       "    </tr>\n",
       "    <tr>\n",
       "      <th>6</th>\n",
       "      <td>2010-01-01</td>\n",
       "      <td>1</td>\n",
       "      <td>Friday</td>\n",
       "      <td>Jan</td>\n",
       "      <td>2010</td>\n",
       "      <td>From 1:00 to 1:59</td>\n",
       "      <td>PUENTE DE VALLECAS</td>\n",
       "      <td>AUTOVIA  M-30 CALZADA 2 KM.                                                                         10200 Madrid</td>\n",
       "      <td>2010/94</td>\n",
       "      <td>7</td>\n",
       "      <td>1</td>\n",
       "      <td>slightly injured</td>\n",
       "      <td>multiple_colision</td>\n",
       "      <td>car</td>\n",
       "      <td>traveler</td>\n",
       "      <td>femenine</td>\n",
       "      <td>From 21 to 24 years</td>\n",
       "      <td>dry</td>\n",
       "      <td>wet</td>\n",
       "    </tr>\n",
       "    <tr>\n",
       "      <th>7</th>\n",
       "      <td>2010-01-01</td>\n",
       "      <td>1</td>\n",
       "      <td>Friday</td>\n",
       "      <td>Jan</td>\n",
       "      <td>2010</td>\n",
       "      <td>From 1:00 to 1:59</td>\n",
       "      <td>PUENTE DE VALLECAS</td>\n",
       "      <td>AUTOVIA  M-30 CALZADA 2 KM.                                                                         10200 Madrid</td>\n",
       "      <td>2010/94</td>\n",
       "      <td>7</td>\n",
       "      <td>1</td>\n",
       "      <td>slightly injured</td>\n",
       "      <td>multiple_colision</td>\n",
       "      <td>van</td>\n",
       "      <td>driver</td>\n",
       "      <td>masculine</td>\n",
       "      <td>From 25 to 29 years</td>\n",
       "      <td>dry</td>\n",
       "      <td>wet</td>\n",
       "    </tr>\n",
       "    <tr>\n",
       "      <th>8</th>\n",
       "      <td>2010-01-01</td>\n",
       "      <td>1</td>\n",
       "      <td>Friday</td>\n",
       "      <td>Jan</td>\n",
       "      <td>2010</td>\n",
       "      <td>From 2:00 to 2:59</td>\n",
       "      <td>CHAMBERI</td>\n",
       "      <td>GLORIETA DE EMILIO CASTELAR - PASEO DE LA CASTELLANA                                                0 Madrid</td>\n",
       "      <td>2010/7</td>\n",
       "      <td>1</td>\n",
       "      <td>1</td>\n",
       "      <td>slightly injured</td>\n",
       "      <td>double_colision</td>\n",
       "      <td>moto</td>\n",
       "      <td>driver</td>\n",
       "      <td>masculine</td>\n",
       "      <td>From 35 to 39 years</td>\n",
       "      <td>dry</td>\n",
       "      <td>dry_clean</td>\n",
       "    </tr>\n",
       "    <tr>\n",
       "      <th>9</th>\n",
       "      <td>2010-01-01</td>\n",
       "      <td>1</td>\n",
       "      <td>Friday</td>\n",
       "      <td>Jan</td>\n",
       "      <td>2010</td>\n",
       "      <td>From 4:00 to 4:59</td>\n",
       "      <td>RETIRO</td>\n",
       "      <td>AUTOVIA  M-30 CALZADA 1 KM.                                                                         8500 Madrid</td>\n",
       "      <td>2010/4</td>\n",
       "      <td>7</td>\n",
       "      <td>1</td>\n",
       "      <td>slightly injured</td>\n",
       "      <td>multiple_colision</td>\n",
       "      <td>car</td>\n",
       "      <td>driver</td>\n",
       "      <td>masculine</td>\n",
       "      <td>From 25 to 29 years</td>\n",
       "      <td>dry</td>\n",
       "      <td>dry_clean</td>\n",
       "    </tr>\n",
       "    <tr>\n",
       "      <th>10</th>\n",
       "      <td>2010-01-01</td>\n",
       "      <td>1</td>\n",
       "      <td>Friday</td>\n",
       "      <td>Jan</td>\n",
       "      <td>2010</td>\n",
       "      <td>From 4:00 to 4:59</td>\n",
       "      <td>RETIRO</td>\n",
       "      <td>AUTOVIA  M-30 CALZADA 1 KM.                                                                         8500 Madrid</td>\n",
       "      <td>2010/4</td>\n",
       "      <td>7</td>\n",
       "      <td>1</td>\n",
       "      <td>seriously injured</td>\n",
       "      <td>multiple_colision</td>\n",
       "      <td>car</td>\n",
       "      <td>traveler</td>\n",
       "      <td>femenine</td>\n",
       "      <td>From 21 to 24 years</td>\n",
       "      <td>dry</td>\n",
       "      <td>dry_clean</td>\n",
       "    </tr>\n",
       "    <tr>\n",
       "      <th>11</th>\n",
       "      <td>2010-01-01</td>\n",
       "      <td>1</td>\n",
       "      <td>Friday</td>\n",
       "      <td>Jan</td>\n",
       "      <td>2010</td>\n",
       "      <td>From 4:00 to 4:59</td>\n",
       "      <td>RETIRO</td>\n",
       "      <td>AUTOVIA  M-30 CALZADA 1 KM.                                                                         8500 Madrid</td>\n",
       "      <td>2010/4</td>\n",
       "      <td>7</td>\n",
       "      <td>1</td>\n",
       "      <td>slightly injured</td>\n",
       "      <td>multiple_colision</td>\n",
       "      <td>car</td>\n",
       "      <td>traveler</td>\n",
       "      <td>femenine</td>\n",
       "      <td>From 21 to 24 years</td>\n",
       "      <td>dry</td>\n",
       "      <td>dry_clean</td>\n",
       "    </tr>\n",
       "    <tr>\n",
       "      <th>12</th>\n",
       "      <td>2010-01-01</td>\n",
       "      <td>1</td>\n",
       "      <td>Friday</td>\n",
       "      <td>Jan</td>\n",
       "      <td>2010</td>\n",
       "      <td>From 4:00 to 4:59</td>\n",
       "      <td>RETIRO</td>\n",
       "      <td>AUTOVIA  M-30 CALZADA 1 KM.                                                                         8500 Madrid</td>\n",
       "      <td>2010/4</td>\n",
       "      <td>7</td>\n",
       "      <td>1</td>\n",
       "      <td>slightly injured</td>\n",
       "      <td>multiple_colision</td>\n",
       "      <td>moto</td>\n",
       "      <td>driver</td>\n",
       "      <td>masculine</td>\n",
       "      <td>From 30 to 34 years</td>\n",
       "      <td>dry</td>\n",
       "      <td>dry_clean</td>\n",
       "    </tr>\n",
       "    <tr>\n",
       "      <th>13</th>\n",
       "      <td>2010-01-01</td>\n",
       "      <td>1</td>\n",
       "      <td>Friday</td>\n",
       "      <td>Jan</td>\n",
       "      <td>2010</td>\n",
       "      <td>From 4:00 to 4:59</td>\n",
       "      <td>RETIRO</td>\n",
       "      <td>AUTOVIA  M-30 CALZADA 1 KM.                                                                         8500 Madrid</td>\n",
       "      <td>2010/4</td>\n",
       "      <td>7</td>\n",
       "      <td>1</td>\n",
       "      <td>slightly injured</td>\n",
       "      <td>multiple_colision</td>\n",
       "      <td>others</td>\n",
       "      <td>driver</td>\n",
       "      <td>masculine</td>\n",
       "      <td>From 18 to 20 years</td>\n",
       "      <td>dry</td>\n",
       "      <td>dry_clean</td>\n",
       "    </tr>\n",
       "    <tr>\n",
       "      <th>14</th>\n",
       "      <td>2010-01-01</td>\n",
       "      <td>1</td>\n",
       "      <td>Friday</td>\n",
       "      <td>Jan</td>\n",
       "      <td>2010</td>\n",
       "      <td>From 4:00 to 4:59</td>\n",
       "      <td>RETIRO</td>\n",
       "      <td>AUTOVIA  M-30 CALZADA 1 KM.                                                                         8500 Madrid</td>\n",
       "      <td>2010/4</td>\n",
       "      <td>7</td>\n",
       "      <td>1</td>\n",
       "      <td>slightly injured</td>\n",
       "      <td>multiple_colision</td>\n",
       "      <td>others</td>\n",
       "      <td>traveler</td>\n",
       "      <td>femenine</td>\n",
       "      <td>From 21 to 24 years</td>\n",
       "      <td>dry</td>\n",
       "      <td>dry_clean</td>\n",
       "    </tr>\n",
       "    <tr>\n",
       "      <th>15</th>\n",
       "      <td>2010-01-01</td>\n",
       "      <td>1</td>\n",
       "      <td>Friday</td>\n",
       "      <td>Jan</td>\n",
       "      <td>2010</td>\n",
       "      <td>From 4:00 to 4:59</td>\n",
       "      <td>RETIRO</td>\n",
       "      <td>AUTOVIA  M-30 CALZADA 1 KM.                                                                         8500 Madrid</td>\n",
       "      <td>2010/4</td>\n",
       "      <td>7</td>\n",
       "      <td>1</td>\n",
       "      <td>slightly injured</td>\n",
       "      <td>multiple_colision</td>\n",
       "      <td>others</td>\n",
       "      <td>traveler</td>\n",
       "      <td>masculine</td>\n",
       "      <td>From 18 to 20 years</td>\n",
       "      <td>dry</td>\n",
       "      <td>dry_clean</td>\n",
       "    </tr>\n",
       "    <tr>\n",
       "      <th>16</th>\n",
       "      <td>2010-01-01</td>\n",
       "      <td>1</td>\n",
       "      <td>Friday</td>\n",
       "      <td>Jan</td>\n",
       "      <td>2010</td>\n",
       "      <td>From 5:00 to 5:59</td>\n",
       "      <td>SALAMANCA</td>\n",
       "      <td>CALLE DE O'DONNELL - CALLE DEL DOCTOR ESQUERDO                                                      0 Madrid</td>\n",
       "      <td>2010/172</td>\n",
       "      <td>1</td>\n",
       "      <td>1</td>\n",
       "      <td>slightly injured</td>\n",
       "      <td>double_colision</td>\n",
       "      <td>car</td>\n",
       "      <td>driver</td>\n",
       "      <td>masculine</td>\n",
       "      <td>From 60 to 64 years</td>\n",
       "      <td>dry</td>\n",
       "      <td>dry_clean</td>\n",
       "    </tr>\n",
       "    <tr>\n",
       "      <th>17</th>\n",
       "      <td>2010-01-01</td>\n",
       "      <td>1</td>\n",
       "      <td>Friday</td>\n",
       "      <td>Jan</td>\n",
       "      <td>2010</td>\n",
       "      <td>From 8:00 to 8:59</td>\n",
       "      <td>CARABANCHEL</td>\n",
       "      <td>PASEO DE SANTA MARIA DE LA CABEZA NUM                                                               100 Madrid</td>\n",
       "      <td>2010/6</td>\n",
       "      <td>2</td>\n",
       "      <td>1</td>\n",
       "      <td>slightly injured</td>\n",
       "      <td>object</td>\n",
       "      <td>car</td>\n",
       "      <td>driver</td>\n",
       "      <td>masculine</td>\n",
       "      <td>From 35 to 39 years</td>\n",
       "      <td>dry</td>\n",
       "      <td>dry_clean</td>\n",
       "    </tr>\n",
       "    <tr>\n",
       "      <th>18</th>\n",
       "      <td>2010-01-01</td>\n",
       "      <td>1</td>\n",
       "      <td>Friday</td>\n",
       "      <td>Jan</td>\n",
       "      <td>2010</td>\n",
       "      <td>From 8:00 to 8:59</td>\n",
       "      <td>CARABANCHEL</td>\n",
       "      <td>PASEO DE SANTA MARIA DE LA CABEZA NUM                                                               100 Madrid</td>\n",
       "      <td>2010/6</td>\n",
       "      <td>2</td>\n",
       "      <td>1</td>\n",
       "      <td>slightly injured</td>\n",
       "      <td>object</td>\n",
       "      <td>car</td>\n",
       "      <td>traveler</td>\n",
       "      <td>masculine</td>\n",
       "      <td>From 45 to 49 years</td>\n",
       "      <td>dry</td>\n",
       "      <td>dry_clean</td>\n",
       "    </tr>\n",
       "    <tr>\n",
       "      <th>19</th>\n",
       "      <td>2010-01-01</td>\n",
       "      <td>1</td>\n",
       "      <td>Friday</td>\n",
       "      <td>Jan</td>\n",
       "      <td>2010</td>\n",
       "      <td>From 9:00 to 9:59</td>\n",
       "      <td>CIUDAD LINEAL</td>\n",
       "      <td>AUTOVIA  M-30 CALZADA 2 KM.                                                                         0 Madrid</td>\n",
       "      <td>2010/193</td>\n",
       "      <td>1</td>\n",
       "      <td>1</td>\n",
       "      <td>slightly injured</td>\n",
       "      <td>motorcycle_fall</td>\n",
       "      <td>moto</td>\n",
       "      <td>driver</td>\n",
       "      <td>masculine</td>\n",
       "      <td>From 30 to 34 years</td>\n",
       "      <td>rain</td>\n",
       "      <td>wet</td>\n",
       "    </tr>\n",
       "    <tr>\n",
       "      <th>20</th>\n",
       "      <td>2010-01-01</td>\n",
       "      <td>1</td>\n",
       "      <td>Friday</td>\n",
       "      <td>Jan</td>\n",
       "      <td>2010</td>\n",
       "      <td>From 9:00 to 9:59</td>\n",
       "      <td>MONCLOA-ARAVACA</td>\n",
       "      <td>AUTOVIA  M-30 CALZADA 1 KM.                                                                         20300 Madrid</td>\n",
       "      <td>2010/195</td>\n",
       "      <td>1</td>\n",
       "      <td>1</td>\n",
       "      <td>slightly injured</td>\n",
       "      <td>object</td>\n",
       "      <td>car</td>\n",
       "      <td>driver</td>\n",
       "      <td>masculine</td>\n",
       "      <td>From 25 to 29 years</td>\n",
       "      <td>rain</td>\n",
       "      <td>wet</td>\n",
       "    </tr>\n",
       "    <tr>\n",
       "      <th>21</th>\n",
       "      <td>2010-01-01</td>\n",
       "      <td>1</td>\n",
       "      <td>Friday</td>\n",
       "      <td>Jan</td>\n",
       "      <td>2010</td>\n",
       "      <td>From 9:00 to 9:59</td>\n",
       "      <td>SALAMANCA</td>\n",
       "      <td>AUTOVIA  M-30 CALZADA 1 KM.                                                                         5000 Madrid</td>\n",
       "      <td>2010/203</td>\n",
       "      <td>1</td>\n",
       "      <td>1</td>\n",
       "      <td>seriously injured</td>\n",
       "      <td>object</td>\n",
       "      <td>car</td>\n",
       "      <td>driver</td>\n",
       "      <td>masculine</td>\n",
       "      <td>From 30 to 34 years</td>\n",
       "      <td>rain</td>\n",
       "      <td>wet</td>\n",
       "    </tr>\n",
       "    <tr>\n",
       "      <th>22</th>\n",
       "      <td>2010-01-01</td>\n",
       "      <td>1</td>\n",
       "      <td>Friday</td>\n",
       "      <td>Jan</td>\n",
       "      <td>2010</td>\n",
       "      <td>From 20:00 to 20:59</td>\n",
       "      <td>TETUAN</td>\n",
       "      <td>CALLE DEL ARROYO - CALLE DE PINOS BAJA                                                              0 Madrid</td>\n",
       "      <td>2010/21</td>\n",
       "      <td>1</td>\n",
       "      <td>1</td>\n",
       "      <td>slightly injured</td>\n",
       "      <td>double_colision</td>\n",
       "      <td>car</td>\n",
       "      <td>traveler</td>\n",
       "      <td>masculine</td>\n",
       "      <td>From 30 to 34 years</td>\n",
       "      <td>dry</td>\n",
       "      <td>dry_clean</td>\n",
       "    </tr>\n",
       "    <tr>\n",
       "      <th>23</th>\n",
       "      <td>2010-01-01</td>\n",
       "      <td>1</td>\n",
       "      <td>Friday</td>\n",
       "      <td>Jan</td>\n",
       "      <td>2010</td>\n",
       "      <td>From 21:00 to 21:59</td>\n",
       "      <td>CIUDAD LINEAL</td>\n",
       "      <td>CALLE DE ARGENTINA - CALLE DE SAMBARA                                                               0 Madrid</td>\n",
       "      <td>2010/23</td>\n",
       "      <td>2</td>\n",
       "      <td>1</td>\n",
       "      <td>slightly injured</td>\n",
       "      <td>multiple_colision</td>\n",
       "      <td>car</td>\n",
       "      <td>driver</td>\n",
       "      <td>masculine</td>\n",
       "      <td>From 21 to 24 years</td>\n",
       "      <td>dry</td>\n",
       "      <td>wet</td>\n",
       "    </tr>\n",
       "    <tr>\n",
       "      <th>24</th>\n",
       "      <td>2010-01-01</td>\n",
       "      <td>1</td>\n",
       "      <td>Friday</td>\n",
       "      <td>Jan</td>\n",
       "      <td>2010</td>\n",
       "      <td>From 21:00 to 21:59</td>\n",
       "      <td>CIUDAD LINEAL</td>\n",
       "      <td>CALLE DE ARGENTINA - CALLE DE SAMBARA                                                               0 Madrid</td>\n",
       "      <td>2010/23</td>\n",
       "      <td>2</td>\n",
       "      <td>1</td>\n",
       "      <td>slightly injured</td>\n",
       "      <td>multiple_colision</td>\n",
       "      <td>car</td>\n",
       "      <td>traveler</td>\n",
       "      <td>femenine</td>\n",
       "      <td>From 50 to 54 years</td>\n",
       "      <td>dry</td>\n",
       "      <td>wet</td>\n",
       "    </tr>\n",
       "  </tbody>\n",
       "</table>\n",
       "</div>"
      ],
      "text/plain": [
       "         date  day week_day month  year                 hour  \\\n",
       "0  2010-01-01    1   Friday   Jan  2010  From 00:00 to 00:59   \n",
       "1  2010-01-01    1   Friday   Jan  2010    From 1:00 to 1:59   \n",
       "2  2010-01-01    1   Friday   Jan  2010    From 1:00 to 1:59   \n",
       "3  2010-01-01    1   Friday   Jan  2010    From 1:00 to 1:59   \n",
       "4  2010-01-01    1   Friday   Jan  2010    From 1:00 to 1:59   \n",
       "5  2010-01-01    1   Friday   Jan  2010    From 1:00 to 1:59   \n",
       "6  2010-01-01    1   Friday   Jan  2010    From 1:00 to 1:59   \n",
       "7  2010-01-01    1   Friday   Jan  2010    From 1:00 to 1:59   \n",
       "8  2010-01-01    1   Friday   Jan  2010    From 2:00 to 2:59   \n",
       "9  2010-01-01    1   Friday   Jan  2010    From 4:00 to 4:59   \n",
       "10 2010-01-01    1   Friday   Jan  2010    From 4:00 to 4:59   \n",
       "11 2010-01-01    1   Friday   Jan  2010    From 4:00 to 4:59   \n",
       "12 2010-01-01    1   Friday   Jan  2010    From 4:00 to 4:59   \n",
       "13 2010-01-01    1   Friday   Jan  2010    From 4:00 to 4:59   \n",
       "14 2010-01-01    1   Friday   Jan  2010    From 4:00 to 4:59   \n",
       "15 2010-01-01    1   Friday   Jan  2010    From 4:00 to 4:59   \n",
       "16 2010-01-01    1   Friday   Jan  2010    From 5:00 to 5:59   \n",
       "17 2010-01-01    1   Friday   Jan  2010    From 8:00 to 8:59   \n",
       "18 2010-01-01    1   Friday   Jan  2010    From 8:00 to 8:59   \n",
       "19 2010-01-01    1   Friday   Jan  2010    From 9:00 to 9:59   \n",
       "20 2010-01-01    1   Friday   Jan  2010    From 9:00 to 9:59   \n",
       "21 2010-01-01    1   Friday   Jan  2010    From 9:00 to 9:59   \n",
       "22 2010-01-01    1   Friday   Jan  2010  From 20:00 to 20:59   \n",
       "23 2010-01-01    1   Friday   Jan  2010  From 21:00 to 21:59   \n",
       "24 2010-01-01    1   Friday   Jan  2010  From 21:00 to 21:59   \n",
       "\n",
       "                          district  \\\n",
       "0   CHAMARTIN                        \n",
       "1   PUENTE DE VALLECAS               \n",
       "2   PUENTE DE VALLECAS               \n",
       "3   PUENTE DE VALLECAS               \n",
       "4   PUENTE DE VALLECAS               \n",
       "5   PUENTE DE VALLECAS               \n",
       "6   PUENTE DE VALLECAS               \n",
       "7   PUENTE DE VALLECAS               \n",
       "8   CHAMBERI                         \n",
       "9   RETIRO                           \n",
       "10  RETIRO                           \n",
       "11  RETIRO                           \n",
       "12  RETIRO                           \n",
       "13  RETIRO                           \n",
       "14  RETIRO                           \n",
       "15  RETIRO                           \n",
       "16  SALAMANCA                        \n",
       "17  CARABANCHEL                      \n",
       "18  CARABANCHEL                      \n",
       "19  CIUDAD LINEAL                    \n",
       "20  MONCLOA-ARAVACA                  \n",
       "21  SALAMANCA                        \n",
       "22  TETUAN                           \n",
       "23  CIUDAD LINEAL                    \n",
       "24  CIUDAD LINEAL                    \n",
       "\n",
       "                                                                                                             address  \\\n",
       "0     CALLE DE CARTAGENA NUM                                                                              104 Madrid   \n",
       "1   AUTOVIA  M-30 CALZADA 2 KM.                                                                         10200 Madrid   \n",
       "2   AUTOVIA  M-30 CALZADA 2 KM.                                                                         10200 Madrid   \n",
       "3   AUTOVIA  M-30 CALZADA 2 KM.                                                                         10200 Madrid   \n",
       "4   AUTOVIA  M-30 CALZADA 2 KM.                                                                         10200 Madrid   \n",
       "5   AUTOVIA  M-30 CALZADA 2 KM.                                                                         10200 Madrid   \n",
       "6   AUTOVIA  M-30 CALZADA 2 KM.                                                                         10200 Madrid   \n",
       "7   AUTOVIA  M-30 CALZADA 2 KM.                                                                         10200 Madrid   \n",
       "8       GLORIETA DE EMILIO CASTELAR - PASEO DE LA CASTELLANA                                                0 Madrid   \n",
       "9    AUTOVIA  M-30 CALZADA 1 KM.                                                                         8500 Madrid   \n",
       "10   AUTOVIA  M-30 CALZADA 1 KM.                                                                         8500 Madrid   \n",
       "11   AUTOVIA  M-30 CALZADA 1 KM.                                                                         8500 Madrid   \n",
       "12   AUTOVIA  M-30 CALZADA 1 KM.                                                                         8500 Madrid   \n",
       "13   AUTOVIA  M-30 CALZADA 1 KM.                                                                         8500 Madrid   \n",
       "14   AUTOVIA  M-30 CALZADA 1 KM.                                                                         8500 Madrid   \n",
       "15   AUTOVIA  M-30 CALZADA 1 KM.                                                                         8500 Madrid   \n",
       "16      CALLE DE O'DONNELL - CALLE DEL DOCTOR ESQUERDO                                                      0 Madrid   \n",
       "17    PASEO DE SANTA MARIA DE LA CABEZA NUM                                                               100 Madrid   \n",
       "18    PASEO DE SANTA MARIA DE LA CABEZA NUM                                                               100 Madrid   \n",
       "19      AUTOVIA  M-30 CALZADA 2 KM.                                                                         0 Madrid   \n",
       "20  AUTOVIA  M-30 CALZADA 1 KM.                                                                         20300 Madrid   \n",
       "21   AUTOVIA  M-30 CALZADA 1 KM.                                                                         5000 Madrid   \n",
       "22      CALLE DEL ARROYO - CALLE DE PINOS BAJA                                                              0 Madrid   \n",
       "23      CALLE DE ARGENTINA - CALLE DE SAMBARA                                                               0 Madrid   \n",
       "24      CALLE DE ARGENTINA - CALLE DE SAMBARA                                                               0 Madrid   \n",
       "\n",
       "      record  cum_victims  unique_victims           severity  \\\n",
       "0   2010/135            1               1   slightly injured   \n",
       "1    2010/94            7               1   slightly injured   \n",
       "2    2010/94            7               1   slightly injured   \n",
       "3    2010/94            7               1   slightly injured   \n",
       "4    2010/94            7               1   slightly injured   \n",
       "5    2010/94            7               1   slightly injured   \n",
       "6    2010/94            7               1   slightly injured   \n",
       "7    2010/94            7               1   slightly injured   \n",
       "8     2010/7            1               1   slightly injured   \n",
       "9     2010/4            7               1   slightly injured   \n",
       "10    2010/4            7               1  seriously injured   \n",
       "11    2010/4            7               1   slightly injured   \n",
       "12    2010/4            7               1   slightly injured   \n",
       "13    2010/4            7               1   slightly injured   \n",
       "14    2010/4            7               1   slightly injured   \n",
       "15    2010/4            7               1   slightly injured   \n",
       "16  2010/172            1               1   slightly injured   \n",
       "17    2010/6            2               1   slightly injured   \n",
       "18    2010/6            2               1   slightly injured   \n",
       "19  2010/193            1               1   slightly injured   \n",
       "20  2010/195            1               1   slightly injured   \n",
       "21  2010/203            1               1  seriously injured   \n",
       "22   2010/21            1               1   slightly injured   \n",
       "23   2010/23            2               1   slightly injured   \n",
       "24   2010/23            2               1   slightly injured   \n",
       "\n",
       "        type_accident     vehicle    person     gendre                  age  \\\n",
       "0     double_colision         car  traveler   femenine  From 40 to 44 years   \n",
       "1   multiple_colision  pedestrian  traveler   femenine  From 25 to 29 years   \n",
       "2   multiple_colision  pedestrian  traveler   femenine  From 30 to 34 years   \n",
       "3   multiple_colision  pedestrian  traveler   femenine  From 25 to 29 years   \n",
       "4   multiple_colision  pedestrian  traveler   femenine  From 25 to 29 years   \n",
       "5   multiple_colision         car    driver   femenine  From 25 to 29 years   \n",
       "6   multiple_colision         car  traveler   femenine  From 21 to 24 years   \n",
       "7   multiple_colision         van    driver  masculine  From 25 to 29 years   \n",
       "8     double_colision        moto    driver  masculine  From 35 to 39 years   \n",
       "9   multiple_colision         car    driver  masculine  From 25 to 29 years   \n",
       "10  multiple_colision         car  traveler   femenine  From 21 to 24 years   \n",
       "11  multiple_colision         car  traveler   femenine  From 21 to 24 years   \n",
       "12  multiple_colision        moto    driver  masculine  From 30 to 34 years   \n",
       "13  multiple_colision      others    driver  masculine  From 18 to 20 years   \n",
       "14  multiple_colision      others  traveler   femenine  From 21 to 24 years   \n",
       "15  multiple_colision      others  traveler  masculine  From 18 to 20 years   \n",
       "16    double_colision         car    driver  masculine  From 60 to 64 years   \n",
       "17             object         car    driver  masculine  From 35 to 39 years   \n",
       "18             object         car  traveler  masculine  From 45 to 49 years   \n",
       "19    motorcycle_fall        moto    driver  masculine  From 30 to 34 years   \n",
       "20             object         car    driver  masculine  From 25 to 29 years   \n",
       "21             object         car    driver  masculine  From 30 to 34 years   \n",
       "22    double_colision         car  traveler  masculine  From 30 to 34 years   \n",
       "23  multiple_colision         car    driver  masculine  From 21 to 24 years   \n",
       "24  multiple_colision         car  traveler   femenine  From 50 to 54 years   \n",
       "\n",
       "   weather road_status  \n",
       "0     rain         wet  \n",
       "1      dry         wet  \n",
       "2      dry         wet  \n",
       "3      dry         wet  \n",
       "4      dry         wet  \n",
       "5      dry         wet  \n",
       "6      dry         wet  \n",
       "7      dry         wet  \n",
       "8      dry   dry_clean  \n",
       "9      dry   dry_clean  \n",
       "10     dry   dry_clean  \n",
       "11     dry   dry_clean  \n",
       "12     dry   dry_clean  \n",
       "13     dry   dry_clean  \n",
       "14     dry   dry_clean  \n",
       "15     dry   dry_clean  \n",
       "16     dry   dry_clean  \n",
       "17     dry   dry_clean  \n",
       "18     dry   dry_clean  \n",
       "19    rain         wet  \n",
       "20    rain         wet  \n",
       "21    rain         wet  \n",
       "22     dry   dry_clean  \n",
       "23     dry         wet  \n",
       "24     dry         wet  "
      ]
     },
     "execution_count": 457,
     "metadata": {},
     "output_type": "execute_result"
    },
    {
     "data": {
      "text/plain": [
       "(111841, 19)"
      ]
     },
     "execution_count": 457,
     "metadata": {},
     "output_type": "execute_result"
    }
   ],
   "source": [
    "data_clean.head(25)\n",
    "data_clean.shape"
   ]
  },
  {
   "cell_type": "code",
   "execution_count": 458,
   "id": "express-place",
   "metadata": {},
   "outputs": [
    {
     "data": {
      "text/plain": [
       "<bound method IndexOpsMixin.value_counts of 0         Jan\n",
       "1         Jan\n",
       "2         Jan\n",
       "3         Jan\n",
       "4         Jan\n",
       "         ... \n",
       "111836    Dec\n",
       "111837    Dec\n",
       "111838    Dec\n",
       "111839    Dec\n",
       "111840    Dec\n",
       "Name: month, Length: 111841, dtype: object>"
      ]
     },
     "execution_count": 458,
     "metadata": {},
     "output_type": "execute_result"
    }
   ],
   "source": [
    "data_clean['month'].value_counts"
   ]
  },
  {
   "cell_type": "code",
   "execution_count": null,
   "id": "ceramic-gibson",
   "metadata": {},
   "outputs": [],
   "source": []
  },
  {
   "cell_type": "markdown",
   "id": "supposed-chemistry",
   "metadata": {},
   "source": [
    "**Exporting the data for tableau**"
   ]
  },
  {
   "cell_type": "code",
   "execution_count": 459,
   "id": "statewide-cursor",
   "metadata": {},
   "outputs": [],
   "source": [
    "data_clean.to_csv('data_tableau_for_map_notebook.csv', index = False)"
   ]
  }
 ],
 "metadata": {
  "kernelspec": {
   "display_name": "Python 3",
   "language": "python",
   "name": "python3"
  },
  "language_info": {
   "codemirror_mode": {
    "name": "ipython",
    "version": 3
   },
   "file_extension": ".py",
   "mimetype": "text/x-python",
   "name": "python",
   "nbconvert_exporter": "python",
   "pygments_lexer": "ipython3",
   "version": "3.7.10"
  }
 },
 "nbformat": 4,
 "nbformat_minor": 5
}
